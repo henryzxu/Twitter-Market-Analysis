{
 "cells": [
  {
   "cell_type": "code",
   "execution_count": 1,
   "metadata": {
    "collapsed": false,
    "scrolled": true
   },
   "outputs": [],
   "source": [
    "import stockutils, basicutils, matchutils, config\n",
    "import pandas_datareader.data as web, re, sqlite3, datetime"
   ]
  },
  {
   "cell_type": "code",
   "execution_count": 2,
   "metadata": {
    "collapsed": false
   },
   "outputs": [],
   "source": [
    "class StockData:\n",
    "    def __init__(self, update = False):\n",
    "        self.company_table = stockutils.company_table(update = update)\n",
    "    \n",
    "    @basicutils.memo\n",
    "    def lookup(self, search_info = ('symbol', 'name', 'se'), **conditions):\n",
    "        \"\"\"Converts company_name to ticker symbol. Returns a tuple of (symbol, company name) \n",
    "        or returns an empty table if company or ticker is not found.\"\"\"\n",
    "        initial = conditions.copy()\n",
    "        if isinstance(search_info, str):\n",
    "            current_search = [search_info[:]]\n",
    "        else:\n",
    "            current_search = list(search_info)\n",
    "        order = []\n",
    "        if 'name' in conditions:\n",
    "            fuzzy_names = []\n",
    "            if not isinstance(conditions['name'], list):\n",
    "                conditions['name'] = [conditions['name']] \n",
    "            for name in conditions['name']:\n",
    "                fuzzy_names.extend([self.company_table[match] \n",
    "                                    for match in matchutils.fuzzy_search(name, self.company_table.keys())])\n",
    "            order = conditions['name'] = fuzzy_names\n",
    "            current_search.append('name')\n",
    "        elif 'symbol' in conditions:\n",
    "            order = conditions['symbol'] if isinstance(conditions['symbol'], list) else [conditions['symbol']]\n",
    "            current_search.append('symbol')\n",
    "        results = stockutils.sql_search(config.sql_path, config.sql_table_name, current_search, **conditions)\n",
    "        if order:\n",
    "            sorted_results = [item[:-1] for identifier in order for item in results if identifier == item[-1]]\n",
    "            return sorted_results or [(\"No results found matching following conditions: \", str(initial))]\n",
    "        return results or [(\"No results found matching following conditions: \", str(initial))]\n",
    "\n",
    "            \n",
    "    \n",
    "            \n",
    "#       def stock_price(self, ticker, date):\n",
    "            \n",
    "        \n",
    "        "
   ]
  },
  {
   "cell_type": "code",
   "execution_count": 3,
   "metadata": {
    "collapsed": false,
    "scrolled": true
   },
   "outputs": [],
   "source": [
    "basicutils.import_cache('data/cached_searches.json')"
   ]
  },
  {
   "cell_type": "code",
   "execution_count": 4,
   "metadata": {
    "collapsed": true
   },
   "outputs": [],
   "source": [
    "basicutils.clear_cache('data/cached_searches.json')"
   ]
  },
  {
   "cell_type": "code",
   "execution_count": 5,
   "metadata": {
    "collapsed": false
   },
   "outputs": [],
   "source": [
    "w = StockData()"
   ]
  },
  {
   "cell_type": "code",
   "execution_count": 6,
   "metadata": {
    "collapsed": false,
    "scrolled": true
   },
   "outputs": [
    {
     "data": {
      "text/plain": [
       "[('AAPL', 'Apple Inc.', 'nasdaq'),\n",
       " ('APLE', 'Apple Hospitality REIT, Inc.', 'nyse')]"
      ]
     },
     "execution_count": 6,
     "metadata": {},
     "output_type": "execute_result"
    }
   ],
   "source": [
    "w.lookup(name='Apple')"
   ]
  },
  {
   "cell_type": "code",
   "execution_count": 7,
   "metadata": {
    "collapsed": false
   },
   "outputs": [
    {
     "data": {
      "text/plain": [
       "[('No results found matching following conditions: ',\n",
       "  \"{'name': 'Nvidia', 'se': 'amex'}\")]"
      ]
     },
     "execution_count": 7,
     "metadata": {},
     "output_type": "execute_result"
    }
   ],
   "source": [
    "w.lookup(name = 'Nvidia',se = 'amex')"
   ]
  },
  {
   "cell_type": "code",
   "execution_count": 8,
   "metadata": {
    "collapsed": false
   },
   "outputs": [
    {
     "data": {
      "text/plain": [
       "[('IF', 'Aberdeen Indonesia Fund, Inc.', 'amex')]"
      ]
     },
     "execution_count": 8,
     "metadata": {},
     "output_type": "execute_result"
    }
   ],
   "source": [
    "w.lookup(ipoyear=(list(range(1990,1991))), se = 'amex')"
   ]
  },
  {
   "cell_type": "code",
   "execution_count": 9,
   "metadata": {
    "collapsed": false
   },
   "outputs": [
    {
     "data": {
      "text/plain": [
       "[('DKS', \"Dick's Sporting Goods Inc\", 'nyse')]"
      ]
     },
     "execution_count": 9,
     "metadata": {},
     "output_type": "execute_result"
    }
   ],
   "source": [
    "w.lookup(name = \"Dick's\")"
   ]
  },
  {
   "cell_type": "code",
   "execution_count": 10,
   "metadata": {
    "collapsed": false
   },
   "outputs": [
    {
     "data": {
      "text/plain": [
       "[('BDX', 'Becton, Dickinson and Company', 'nyse')]"
      ]
     },
     "execution_count": 10,
     "metadata": {},
     "output_type": "execute_result"
    }
   ],
   "source": [
    "w.lookup(name = 'Becton', se = 'nyse')"
   ]
  },
  {
   "cell_type": "code",
   "execution_count": 11,
   "metadata": {
    "collapsed": false
   },
   "outputs": [
    {
     "data": {
      "text/plain": [
       "[('INTC', 'Intel Corporation', 'nasdaq'),\n",
       " ('ADRD', 'BLDRS Developed Markets 100 ADR Index Fund', 'nasdaq'),\n",
       " ('CBD', 'Companhia Brasileira de Distribuicao', 'nyse'),\n",
       " ('LND', 'Brasilagro Cia Brasileira De Propriedades Agricolas', 'nyse'),\n",
       " ('BLIN          ', 'Bridgeline Digital, Inc.', 'nasdaq'),\n",
       " ('DSU', 'Blackrock Debt Strategies Fund, Inc.', 'nyse'),\n",
       " ('BDX', 'Becton, Dickinson and Company', 'nyse'),\n",
       " ('BDE', 'Black Diamond, Inc.', 'nasdaq'),\n",
       " ('BCH', 'Banco De Chile', 'nyse'),\n",
       " ('SBS',\n",
       "  'Companhia de saneamento Basico Do Estado De Sao Paulo - Sabesp',\n",
       "  'nyse'),\n",
       " ('BHL', 'Blackrock Defined Opportunity Credit Trust', 'nyse'),\n",
       " ('DTLA^', 'Brookfield DTLA Inc.', 'nyse')]"
      ]
     },
     "execution_count": 11,
     "metadata": {},
     "output_type": "execute_result"
    }
   ],
   "source": [
    "w.lookup(name = ['Intel', 'BD'])"
   ]
  },
  {
   "cell_type": "code",
   "execution_count": 12,
   "metadata": {
    "collapsed": false
   },
   "outputs": [
    {
     "data": {
      "text/plain": [
       "[('No results found matching following conditions: ',\n",
       "  \"{'ipoyear': '15', 'name': 'Intel Corporation'}\")]"
      ]
     },
     "execution_count": 12,
     "metadata": {},
     "output_type": "execute_result"
    }
   ],
   "source": [
    "w.lookup(name = 'Intel Corporation', ipoyear = '15')"
   ]
  },
  {
   "cell_type": "code",
   "execution_count": 13,
   "metadata": {
    "collapsed": false
   },
   "outputs": [
    {
     "data": {
      "text/plain": [
       "[('$38.42B', 'Becton, Dickinson and Company')]"
      ]
     },
     "execution_count": 13,
     "metadata": {},
     "output_type": "execute_result"
    }
   ],
   "source": [
    "w.lookup(search_info = ['marketcap', 'name'], symbol = 'BDX')"
   ]
  },
  {
   "cell_type": "code",
   "execution_count": 14,
   "metadata": {
    "collapsed": false
   },
   "outputs": [
    {
     "data": {
      "text/plain": [
       "[('BDX', 'Becton, Dickinson and Company', 'nyse')]"
      ]
     },
     "execution_count": 14,
     "metadata": {},
     "output_type": "execute_result"
    }
   ],
   "source": [
    "w.lookup(name ='Becton Dickinson and Company')"
   ]
  },
  {
   "cell_type": "code",
   "execution_count": 15,
   "metadata": {
    "collapsed": false
   },
   "outputs": [],
   "source": [
    "basicutils.json_dump('data/cached_searches.json')"
   ]
  },
  {
   "cell_type": "code",
   "execution_count": 16,
   "metadata": {
    "collapsed": false
   },
   "outputs": [
    {
     "data": {
      "text/plain": [
       "[('ARES', 'Ares Management L.P.', 'nyse'),\n",
       " ('WM', 'Waste Management, Inc.', 'nyse'),\n",
       " ('MDLY', 'Medley Management Inc.', 'nyse'),\n",
       " ('OMAA', 'OM Asset Management plc', 'nyse'),\n",
       " ('RM', 'Regional Management Corp.', 'nyse'),\n",
       " ('MMAC', 'MMA Capital Management, LLC', 'nasdaq'),\n",
       " ('NLY', 'Annaly Capital Management Inc', 'nyse'),\n",
       " ('APO', 'Apollo Global Management, LLC', 'nyse'),\n",
       " ('CLMS', 'Calamos Asset Management, Inc.', 'nasdaq'),\n",
       " ('EEQ', 'Enbridge Energy Management LLC', 'nyse')]"
      ]
     },
     "execution_count": 16,
     "metadata": {},
     "output_type": "execute_result"
    }
   ],
   "source": [
    "w.lookup(name = 'Mgmt')"
   ]
  },
  {
   "cell_type": "code",
   "execution_count": null,
   "metadata": {
    "collapsed": false
   },
   "outputs": [],
   "source": []
  },
  {
   "cell_type": "code",
   "execution_count": null,
   "metadata": {
    "collapsed": true
   },
   "outputs": [],
   "source": []
  }
 ],
 "metadata": {
  "anaconda-cloud": {},
  "kernelspec": {
   "display_name": "Python [conda root]",
   "language": "python",
   "name": "conda-root-py"
  },
  "language_info": {
   "codemirror_mode": {
    "name": "ipython",
    "version": 3
   },
   "file_extension": ".py",
   "mimetype": "text/x-python",
   "name": "python",
   "nbconvert_exporter": "python",
   "pygments_lexer": "ipython3",
   "version": "3.5.2"
  }
 },
 "nbformat": 4,
 "nbformat_minor": 1
}
