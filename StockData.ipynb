{
 "cells": [
  {
   "cell_type": "code",
   "execution_count": 11,
   "metadata": {
    "collapsed": false
   },
   "outputs": [],
   "source": [
    "import stockutils\n",
    "import pandas_datareader.data as web, re, sqlite3, datetime"
   ]
  },
  {
   "cell_type": "code",
   "execution_count": 57,
   "metadata": {
    "collapsed": false
   },
   "outputs": [],
   "source": [
    "class StockData:\n",
    "    def __init__(self, se = None, update = False, force_update = False):\n",
    "        self.company_table = stockutils.company_table(se = se, update = update, force_update = force_update)\n",
    "        self.se = se\n",
    "   \n",
    "    def lookup_ticker(self, company_name, sql = True):\n",
    "        \"\"\"Converts company_name to ticker symbol. Returns a tuple of (symbol, company name) \n",
    "        or returns an empty table if company or ticker is not found.\"\"\"\n",
    "        if isinstance(company_name,str):\n",
    "            company_name = [company_name]\n",
    "        result_table, conn = [], None \n",
    "        \n",
    "        if not sql:\n",
    "            for name in company_name:\n",
    "                name = r'.*\\s*'+name.lower()+r'.*'\n",
    "                for row in self.company_table:\n",
    "                    match = re.search(name,row[1].lower()) \n",
    "                    if match:\n",
    "                        result_table.append((row[0],row[1],row[9]))\n",
    "        elif self.se:\n",
    "            conn = sqlite3.connect('data/companysql' + self.se + '.sql')\n",
    "        else:\n",
    "            conn = sqlite3.connect('data/completecompanylist.sql')\n",
    "        \n",
    "        if conn: \n",
    "            c = conn.cursor()\n",
    "            for name in company_name:\n",
    "                query = ('%'+name+'%',)\n",
    "                rows = c.execute('SELECT symbol,name,se FROM companytable WHERE name LIKE ?;', query).fetchall()\n",
    "                if rows:\n",
    "                    for row in rows:\n",
    "                        result_table.append(row)\n",
    "                else:\n",
    "                    print('Switching to table for ' + name + ' lookup.')\n",
    "                    result_table.append(self.lookup_ticker(name, sql = False))\n",
    "            conn.close()\n",
    "        if result_table:\n",
    "            return result_table.pop() if len(result_table) == 1 else result_table\n",
    "        else:\n",
    "            return ('N/A', company_name)\n",
    "    \n",
    "#    def stock_price(self, ticker, date):\n",
    "        \n",
    "        "
   ]
  },
  {
   "cell_type": "code",
   "execution_count": 58,
   "metadata": {
    "collapsed": false
   },
   "outputs": [],
   "source": [
    "w = StockData()"
   ]
  },
  {
   "cell_type": "code",
   "execution_count": 59,
   "metadata": {
    "collapsed": false
   },
   "outputs": [],
   "source": [
    "x = StockData('nasdaq')"
   ]
  },
  {
   "cell_type": "code",
   "execution_count": 60,
   "metadata": {
    "collapsed": true
   },
   "outputs": [],
   "source": [
    "y = StockData('amex')"
   ]
  },
  {
   "cell_type": "code",
   "execution_count": 61,
   "metadata": {
    "collapsed": false
   },
   "outputs": [],
   "source": [
    "z = StockData('nyse')"
   ]
  },
  {
   "cell_type": "code",
   "execution_count": 62,
   "metadata": {
    "collapsed": false
   },
   "outputs": [
    {
     "data": {
      "text/plain": [
       "('NVDA', 'NVIDIA Corporation', 'nasdaq')"
      ]
     },
     "execution_count": 62,
     "metadata": {},
     "output_type": "execute_result"
    }
   ],
   "source": [
    "x.lookup_ticker('Nvidia')"
   ]
  },
  {
   "cell_type": "code",
   "execution_count": 63,
   "metadata": {
    "collapsed": false
   },
   "outputs": [
    {
     "name": "stdout",
     "output_type": "stream",
     "text": [
      "Switching to table for Becton Dickinson lookup.\n"
     ]
    },
    {
     "data": {
      "text/plain": [
       "[('INTC', 'Intel Corporation', 'nasdaq'),\n",
       " ('NVDA', 'NVIDIA Corporation', 'nasdaq'),\n",
       " ('AAPL', 'Apple Inc.', 'nasdaq'),\n",
       " ('MSFT', 'Microsoft Corporation', 'nasdaq'),\n",
       " ('N/A', ['Becton Dickinson'])]"
      ]
     },
     "execution_count": 63,
     "metadata": {},
     "output_type": "execute_result"
    }
   ],
   "source": [
    "x.lookup_ticker(['Intel Corporation', 'Nvidia', 'Apple', 'Microsoft', 'Becton Dickinson'])"
   ]
  },
  {
   "cell_type": "code",
   "execution_count": 64,
   "metadata": {
    "collapsed": false
   },
   "outputs": [
    {
     "data": {
      "text/plain": [
       "('DKS', \"Dick's Sporting Goods Inc\", 'nyse')"
      ]
     },
     "execution_count": 64,
     "metadata": {},
     "output_type": "execute_result"
    }
   ],
   "source": [
    "z.lookup_ticker(\"Dick's\")"
   ]
  },
  {
   "cell_type": "code",
   "execution_count": 65,
   "metadata": {
    "collapsed": false
   },
   "outputs": [
    {
     "data": {
      "text/plain": [
       "('BDX', 'Becton, Dickinson and Company', 'nyse')"
      ]
     },
     "execution_count": 65,
     "metadata": {},
     "output_type": "execute_result"
    }
   ],
   "source": [
    "z.lookup_ticker('Becton')"
   ]
  },
  {
   "cell_type": "code",
   "execution_count": 68,
   "metadata": {
    "collapsed": false
   },
   "outputs": [
    {
     "data": {
      "text/plain": [
       "[('BOTZ',\n",
       "  'Global X Robotics & Artificial Intelligence Thematic ETF',\n",
       "  'nasdaq'),\n",
       " ('INTC', 'Intel Corporation', 'nasdaq'),\n",
       " ('IQNT', 'Inteliquent, Inc.', 'nasdaq'),\n",
       " ('NTLA', 'Intellia Therapeutics, Inc.', 'nasdaq'),\n",
       " ('IPCI', 'Intellipharmaceutics International Inc.', 'nasdaq'),\n",
       " ('GOL', 'Gol Linhas Aereas Inteligentes S.A.', 'nyse'),\n",
       " ('I', 'Intelsat S.A.', 'nyse'),\n",
       " ('IDN', 'Intellicheck Mobilisa, Inc.', 'amex'),\n",
       " ('INS', 'Intelligent Systems Corporation', 'amex')]"
      ]
     },
     "execution_count": 68,
     "metadata": {},
     "output_type": "execute_result"
    }
   ],
   "source": [
    "w.lookup_ticker('Intel')"
   ]
  },
  {
   "cell_type": "code",
   "execution_count": null,
   "metadata": {
    "collapsed": true
   },
   "outputs": [],
   "source": []
  }
 ],
 "metadata": {
  "anaconda-cloud": {},
  "kernelspec": {
   "display_name": "Python [conda root]",
   "language": "python",
   "name": "conda-root-py"
  },
  "language_info": {
   "codemirror_mode": {
    "name": "ipython",
    "version": 3
   },
   "file_extension": ".py",
   "mimetype": "text/x-python",
   "name": "python",
   "nbconvert_exporter": "python",
   "pygments_lexer": "ipython3",
   "version": "3.5.2"
  }
 },
 "nbformat": 4,
 "nbformat_minor": 1
}
