{
 "cells": [
  {
   "cell_type": "code",
   "execution_count": 1,
   "metadata": {
    "collapsed": false
   },
   "outputs": [],
   "source": [
    "import ticker_table\n",
    "import pandas_datareader, re, sqlite3"
   ]
  },
  {
   "cell_type": "code",
   "execution_count": 2,
   "metadata": {
    "collapsed": false
   },
   "outputs": [],
   "source": [
    "class StockData:\n",
    "    def __init__(self, se, sql):\n",
    "        self.company_table = ticker_table.company_table(se = se, sql = sql)\n",
    "        self.se = se\n",
    "        self.sql_table = sql\n",
    "   \n",
    "    def lookup_ticker(self, company_name):\n",
    "        \"\"\"Converts company_name to ticker symbol. Returns a tuple of (symbol, company name) \n",
    "        or returns an empty table if company or ticker is not found.\"\"\"\n",
    "        result_table = []\n",
    "        if not self.sql_table: \n",
    "            company_name = r'.*\\s*'+company_name.lower()+r'\\s.*'\n",
    "            for row in self.company_table:\n",
    "                match = re.search(company_name,row[1].lower()) \n",
    "                if match:\n",
    "                    result_table.append((row[0],row[1]))\n",
    "        else:\n",
    "            conn = sqlite3.connect('data/companysql.sql')\n",
    "            c = conn.cursor()\n",
    "            query = ('%'+company_name+' %',)\n",
    "            for row in c.execute('SELECT symbol,name FROM companysql WHERE lower(name) LIKE ?', query):\n",
    "                result_table.append(row)\n",
    "            conn.close()\n",
    "        return result_table.pop() if len(result_table) == 1 else result_table"
   ]
  },
  {
   "cell_type": "code",
   "execution_count": 3,
   "metadata": {
    "collapsed": false
   },
   "outputs": [],
   "source": [
    "y = StockData('nasdaq', True)\n"
   ]
  },
  {
   "cell_type": "code",
   "execution_count": 4,
   "metadata": {
    "collapsed": false
   },
   "outputs": [
    {
     "data": {
      "text/plain": [
       "('INTC', 'Intel Corporation')"
      ]
     },
     "execution_count": 4,
     "metadata": {},
     "output_type": "execute_result"
    }
   ],
   "source": [
    "y.lookup_ticker('intel')"
   ]
  },
  {
   "cell_type": "code",
   "execution_count": null,
   "metadata": {
    "collapsed": true
   },
   "outputs": [],
   "source": []
  }
 ],
 "metadata": {
  "anaconda-cloud": {},
  "kernelspec": {
   "display_name": "Python [conda root]",
   "language": "python",
   "name": "conda-root-py"
  },
  "language_info": {
   "codemirror_mode": {
    "name": "ipython",
    "version": 3
   },
   "file_extension": ".py",
   "mimetype": "text/x-python",
   "name": "python",
   "nbconvert_exporter": "python",
   "pygments_lexer": "ipython3",
   "version": "3.5.2"
  }
 },
 "nbformat": 4,
 "nbformat_minor": 1
}
