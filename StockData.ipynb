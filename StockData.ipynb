{
 "cells": [
  {
   "cell_type": "code",
   "execution_count": 1,
   "metadata": {
    "collapsed": false,
    "scrolled": true
   },
   "outputs": [],
   "source": [
    "import stockutils, basicutils, matchutils, stringparsing, config\n",
    "import re"
   ]
  },
  {
   "cell_type": "code",
   "execution_count": 2,
   "metadata": {
    "collapsed": false
   },
   "outputs": [],
   "source": [
    "class StockData:\n",
    "    def __init__(self, update = False):\n",
    "        self.company_table = stockutils.company_table(update = update)\n",
    "    \n",
    "    @basicutils.memo\n",
    "    def lookup(self, search_info = ('symbol', 'name', 'se'), num_results = 5, **conditions):\n",
    "        \"\"\"Converts company_name to ticker symbol. Returns a tuple of (symbol, company name) \n",
    "        or returns an empty table if company or ticker is not found.\"\"\"\n",
    "        initial = conditions.copy()\n",
    "        if isinstance(search_info, str):\n",
    "            current_search = [search_info[:]]\n",
    "        else:\n",
    "            current_search = list(search_info)\n",
    "        order = []\n",
    "        if 'name' in conditions:\n",
    "            fuzzy_names = []\n",
    "            if not isinstance(conditions['name'], list):\n",
    "                conditions['name'] = [conditions['name']] \n",
    "            for name in conditions['name']:\n",
    "                fuzzy_names.extend([self.company_table[match] \n",
    "                                    for match in matchutils.fuzzy_search(name, self.company_table.keys(), num_results = num_results)])\n",
    "            order = conditions['name'] = fuzzy_names\n",
    "            current_search.append('name')\n",
    "        elif 'symbol' in conditions:\n",
    "            order = conditions['symbol'] if isinstance(conditions['symbol'], list) else [conditions['symbol']]\n",
    "            current_search.append('symbol')\n",
    "        results = stockutils.sql_search(config.sql_path, config.sql_table_name, current_search, **conditions)\n",
    "        if order:\n",
    "            sorted_results = [item[:-1] for identifier in order for item in results if identifier == item[-1]]\n",
    "            return sorted_results or [(\"No results found matching following conditions: \", str(initial))]\n",
    "        return results or [(\"No results found matching following conditions: \", str(initial))]\n",
    "\n",
    "    def parse_companies(self, sentence):\n",
    "        return self.lookup(name = stringparsing.fuzzy_ner(sentence,self.company_table.keys()))\n",
    "            \n",
    "    \n",
    "            \n",
    "#       def stock_price(self, ticker, date):\n",
    "            \n",
    "        \n",
    "        "
   ]
  },
  {
   "cell_type": "code",
   "execution_count": 3,
   "metadata": {
    "collapsed": false,
    "scrolled": true
   },
   "outputs": [],
   "source": [
    "basicutils.import_cache('data/cached_searches.json')"
   ]
  },
  {
   "cell_type": "code",
   "execution_count": 4,
   "metadata": {
    "collapsed": true
   },
   "outputs": [],
   "source": [
    "basicutils.clear_cache('data/cached_searches.json')"
   ]
  },
  {
   "cell_type": "code",
   "execution_count": 5,
   "metadata": {
    "collapsed": false
   },
   "outputs": [],
   "source": [
    "w = StockData()"
   ]
  },
  {
   "cell_type": "code",
   "execution_count": 6,
   "metadata": {
    "collapsed": false,
    "scrolled": true
   },
   "outputs": [
    {
     "data": {
      "text/plain": [
       "[('JPM', 'J P Morgan Chase & Co', 'nyse'),\n",
       " ('IF', 'Aberdeen Indonesia Fund, Inc.', 'amex'),\n",
       " ('TLK', 'PT Telekomunikasi Indonesia, Tbk', 'nyse')]"
      ]
     },
     "execution_count": 6,
     "metadata": {},
     "output_type": "execute_result"
    }
   ],
   "source": [
    "w.parse_companies(\"Indonesia: J.P. Morgan was tasked to find buyers, but instead said 'sell'\")"
   ]
  },
  {
   "cell_type": "code",
   "execution_count": 7,
   "metadata": {
    "collapsed": false,
    "scrolled": true
   },
   "outputs": [
    {
     "data": {
      "text/plain": [
       "[('AMZN', 'Amazon.com, Inc.', 'nasdaq'),\n",
       " ('MANH', 'Manhattan Associates, Inc.', 'nasdaq'),\n",
       " ('LOAN', 'Manhattan Bridge Capital, Inc', 'nasdaq')]"
      ]
     },
     "execution_count": 7,
     "metadata": {},
     "output_type": "execute_result"
    }
   ],
   "source": [
    "w.parse_companies('Amazon to open first Manhattan bookstore')"
   ]
  },
  {
   "cell_type": "code",
   "execution_count": 8,
   "metadata": {
    "collapsed": false,
    "scrolled": true
   },
   "outputs": [
    {
     "data": {
      "text/plain": [
       "[('INTC', 'Intel Corporation', 'nasdaq')]"
      ]
     },
     "execution_count": 8,
     "metadata": {},
     "output_type": "execute_result"
    }
   ],
   "source": [
    "w.parse_companies('Intel to expand sales in Europe')"
   ]
  },
  {
   "cell_type": "code",
   "execution_count": 9,
   "metadata": {
    "collapsed": false
   },
   "outputs": [
    {
     "data": {
      "text/plain": [
       "[('IF', 'Aberdeen Indonesia Fund, Inc.', 'amex')]"
      ]
     },
     "execution_count": 9,
     "metadata": {},
     "output_type": "execute_result"
    }
   ],
   "source": [
    "w.lookup(ipoyear=(list(range(1990,1991))), se = 'amex')"
   ]
  },
  {
   "cell_type": "code",
   "execution_count": 10,
   "metadata": {
    "collapsed": false,
    "scrolled": true
   },
   "outputs": [
    {
     "data": {
      "text/plain": [
       "[('APLE', 'Apple Hospitality REIT, Inc.', 'nyse'),\n",
       " ('AAPL', 'Apple Inc.', 'nasdaq')]"
      ]
     },
     "execution_count": 10,
     "metadata": {},
     "output_type": "execute_result"
    }
   ],
   "source": [
    "w.parse_companies('Apple to maintain Asian production lines.')"
   ]
  },
  {
   "cell_type": "code",
   "execution_count": 11,
   "metadata": {
    "collapsed": false
   },
   "outputs": [
    {
     "data": {
      "text/plain": [
       "[('MCO', \"Moody's Corporation\", 'nyse')]"
      ]
     },
     "execution_count": 11,
     "metadata": {},
     "output_type": "execute_result"
    }
   ],
   "source": [
    "w.parse_companies(\"Moody's to downgrade shipping companies' ratings.\")"
   ]
  },
  {
   "cell_type": "code",
   "execution_count": 12,
   "metadata": {
    "collapsed": false,
    "scrolled": false
   },
   "outputs": [
    {
     "data": {
      "text/plain": [
       "[('NYT', 'New York Times Company (The)', 'nyse'),\n",
       " ('APLE', 'Apple Hospitality REIT, Inc.', 'nyse'),\n",
       " ('AAPL', 'Apple Inc.', 'nasdaq')]"
      ]
     },
     "execution_count": 12,
     "metadata": {},
     "output_type": "execute_result"
    }
   ],
   "source": [
    "w.parse_companies('Apple pulls New York Times app from China store')"
   ]
  },
  {
   "cell_type": "code",
   "execution_count": 13,
   "metadata": {
    "collapsed": false,
    "scrolled": false
   },
   "outputs": [
    {
     "data": {
      "text/plain": [
       "[('M', \"Macy's Inc\", 'nyse'),\n",
       " ('CHKP', 'Check Point Software Technologies Ltd.', 'nasdaq'),\n",
       " ('CHEK', 'Check-Cap Ltd.', 'nasdaq')]"
      ]
     },
     "execution_count": 13,
     "metadata": {},
     "output_type": "execute_result"
    }
   ],
   "source": [
    "w.parse_companies(\"Macy's is closing 63 stores this spring. Check to see if your local Macy's is on the list: http://on.wsj.com/2hSwfTr\")"
   ]
  },
  {
   "cell_type": "code",
   "execution_count": 14,
   "metadata": {
    "collapsed": false,
    "scrolled": true
   },
   "outputs": [
    {
     "data": {
      "text/plain": [
       "[('$38.42B', 'Becton, Dickinson and Company')]"
      ]
     },
     "execution_count": 14,
     "metadata": {},
     "output_type": "execute_result"
    }
   ],
   "source": [
    "w.lookup(search_info = ['marketcap', 'name'], symbol = 'BDX')"
   ]
  },
  {
   "cell_type": "code",
   "execution_count": 15,
   "metadata": {
    "collapsed": false
   },
   "outputs": [
    {
     "data": {
      "text/plain": [
       "[]"
      ]
     },
     "execution_count": 15,
     "metadata": {},
     "output_type": "execute_result"
    }
   ],
   "source": [
    "matchutils.fuzzy_search('63', w.company_table.keys())"
   ]
  },
  {
   "cell_type": "code",
   "execution_count": 16,
   "metadata": {
    "collapsed": false
   },
   "outputs": [
    {
     "data": {
      "text/plain": [
       "[('EW', 'Edwards Lifesciences Corporation', 'nyse'),\n",
       " ('SHLD', 'Sears Holdings Corporation', 'nasdaq'),\n",
       " ('SHOS', 'Sears Hometown and Outlet Stores, Inc.', 'nasdaq')]"
      ]
     },
     "execution_count": 16,
     "metadata": {},
     "output_type": "execute_result"
    }
   ],
   "source": [
    "w.parse_companies('Hedge-fund manager Edward Lampert has pumped an additional $1 billion into his yearslong effort to revive Sears')"
   ]
  },
  {
   "cell_type": "code",
   "execution_count": 17,
   "metadata": {
    "collapsed": false
   },
   "outputs": [
    {
     "data": {
      "text/plain": [
       "[('SHLD', 'Sears Holdings Corporation', 'nasdaq'),\n",
       " ('SHOS', 'Sears Hometown and Outlet Stores, Inc.', 'nasdaq'),\n",
       " ('SRSC', 'Sears Canada Inc. ', 'nasdaq')]"
      ]
     },
     "execution_count": 17,
     "metadata": {},
     "output_type": "execute_result"
    }
   ],
   "source": [
    "w.lookup(name = 'Sears')"
   ]
  },
  {
   "cell_type": "code",
   "execution_count": null,
   "metadata": {
    "collapsed": false
   },
   "outputs": [],
   "source": []
  },
  {
   "cell_type": "code",
   "execution_count": null,
   "metadata": {
    "collapsed": true
   },
   "outputs": [],
   "source": []
  }
 ],
 "metadata": {
  "anaconda-cloud": {},
  "kernelspec": {
   "display_name": "Python [conda root]",
   "language": "python",
   "name": "conda-root-py"
  },
  "language_info": {
   "codemirror_mode": {
    "name": "ipython",
    "version": 3
   },
   "file_extension": ".py",
   "mimetype": "text/x-python",
   "name": "python",
   "nbconvert_exporter": "python",
   "pygments_lexer": "ipython3",
   "version": "3.5.2"
  }
 },
 "nbformat": 4,
 "nbformat_minor": 1
}
