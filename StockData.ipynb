{
 "cells": [
  {
   "cell_type": "code",
   "execution_count": 1,
   "metadata": {
    "collapsed": false,
    "scrolled": true
   },
   "outputs": [],
   "source": [
    "import stockutils, basicutils, config\n",
    "import pandas_datareader.data as web, re, sqlite3, datetime"
   ]
  },
  {
   "cell_type": "code",
   "execution_count": 2,
   "metadata": {
    "collapsed": false
   },
   "outputs": [],
   "source": [
    "class StockData:\n",
    "    def __init__(self, update = False):\n",
    "        self.company_table = stockutils.company_table(update = update)\n",
    "        \n",
    "    @basicutils.memo\n",
    "    def lookup(self, name, search_info = ['symbol', 'name', 'se'], se = None):\n",
    "        \"\"\"Converts company_name to ticker symbol. Returns a tuple of (symbol, company name) \n",
    "        or returns an empty table if company or ticker is not found.\"\"\"\n",
    "        conn = sqlite3.connect(config.sql_path)\n",
    "        c = conn.cursor()\n",
    "        result_table = []\n",
    "        result_table.extend(stockutils.sql_search(name, search_info, c, se=se))\n",
    "        if not result_table:\n",
    "            print('Switching to regular expressions for ' + name + ' lookup.')\n",
    "            found = self.fuzzy_search(name)\n",
    "            if found:\n",
    "                for item in found:\n",
    "                    result_table.extend(stockutils.sql_search(item, search_info, c, se=se))\n",
    "            else:\n",
    "                result_table.append(('N/A', name))\n",
    "        conn.close()\n",
    "        return result_table\n",
    "    \n",
    "    #soon to be moved to matchutils.py\n",
    "    def fuzzy_search(self,name):\n",
    "        found_names = []\n",
    "        for name in [name, name.upper()]:\n",
    "            query = r\".*\" + r\".*\".join(list(name)) + r\".*\"\n",
    "            for row in self.company_table.keys():\n",
    "                match = re.search(query,row)\n",
    "                if match:\n",
    "                     found_names.append(match.group())\n",
    "        return found_names\n",
    "    \n",
    "            \n",
    "#       def stock_price(self, ticker, date):\n",
    "            \n",
    "        \n",
    "        "
   ]
  },
  {
   "cell_type": "code",
   "execution_count": 3,
   "metadata": {
    "collapsed": false,
    "scrolled": true
   },
   "outputs": [],
   "source": [
    "basicutils.import_cache('data/cached_searches.json')"
   ]
  },
  {
   "cell_type": "code",
   "execution_count": 4,
   "metadata": {
    "collapsed": false
   },
   "outputs": [],
   "source": [
    "w = StockData()"
   ]
  },
  {
   "cell_type": "code",
   "execution_count": 5,
   "metadata": {
    "collapsed": false,
    "scrolled": true
   },
   "outputs": [
    {
     "name": "stdout",
     "output_type": "stream",
     "text": [
      "Switching to regular expressions for Apple lookup.\n"
     ]
    },
    {
     "data": {
      "text/plain": [
       "[('APDN', 'Applied DNA Sciences Inc', 'nasdaq'),\n",
       " ('AMAT', 'Applied Materials, Inc.', 'nasdaq'),\n",
       " ('ARCI', 'Appliance Recycling Centers of America, Inc.', 'nasdaq'),\n",
       " ('AIT', 'Applied Industrial Technologies, Inc.', 'nyse'),\n",
       " ('AAPL', 'Apple Inc.', 'nasdaq'),\n",
       " ('AGTC', 'Applied Genetic Technologies Corporation', 'nasdaq'),\n",
       " ('APLE', 'Apple Hospitality REIT, Inc.', 'nyse'),\n",
       " ('AMCC', 'Applied Micro Circuits Corporation', 'nasdaq'),\n",
       " ('AAOI', 'Applied Optoelectronics, Inc.', 'nasdaq'),\n",
       " ('GCP', 'GCP Applied Technologies Inc.', 'nyse'),\n",
       " ('SAIC', 'SCIENCE APPLICATIONS INTERNATIONAL CORPORATION', 'nyse')]"
      ]
     },
     "execution_count": 5,
     "metadata": {},
     "output_type": "execute_result"
    }
   ],
   "source": [
    "w.lookup('Apple')"
   ]
  },
  {
   "cell_type": "code",
   "execution_count": 6,
   "metadata": {
    "collapsed": false
   },
   "outputs": [
    {
     "name": "stdout",
     "output_type": "stream",
     "text": [
      "Switching to regular expressions for Nvidia lookup.\n"
     ]
    },
    {
     "data": {
      "text/plain": [
       "[('NVDA', 'NVIDIA Corporation', 'nasdaq')]"
      ]
     },
     "execution_count": 6,
     "metadata": {},
     "output_type": "execute_result"
    }
   ],
   "source": [
    "w.lookup('Nvidia',se = 'nasdaq')"
   ]
  },
  {
   "cell_type": "code",
   "execution_count": 7,
   "metadata": {
    "collapsed": false
   },
   "outputs": [
    {
     "name": "stdout",
     "output_type": "stream",
     "text": [
      "Switching to regular expressions for Apple lookup.\n",
      "Switching to regular expressions for Microsoft lookup.\n",
      "Switching to regular expressions for Becton Dickinson lookup.\n"
     ]
    },
    {
     "data": {
      "text/plain": [
       "[('INTC', 'Intel Corporation', 'nasdaq'),\n",
       " ('NVDA', 'NVIDIA Corporation', 'nasdaq'),\n",
       " ('APDN', 'Applied DNA Sciences Inc', 'nasdaq'),\n",
       " ('AMAT', 'Applied Materials, Inc.', 'nasdaq'),\n",
       " ('ARCI', 'Appliance Recycling Centers of America, Inc.', 'nasdaq'),\n",
       " ('AAPL', 'Apple Inc.', 'nasdaq'),\n",
       " ('AGTC', 'Applied Genetic Technologies Corporation', 'nasdaq'),\n",
       " ('AMCC', 'Applied Micro Circuits Corporation', 'nasdaq'),\n",
       " ('AAOI', 'Applied Optoelectronics, Inc.', 'nasdaq'),\n",
       " ('MSFT', 'Microsoft Corporation', 'nasdaq')]"
      ]
     },
     "execution_count": 7,
     "metadata": {},
     "output_type": "execute_result"
    }
   ],
   "source": [
    "basicutils.bulk_search(w.lookup,['Intel Corporation', 'Nvidia', 'Apple', 'Microsoft', 'Becton Dickinson'], se = 'nasdaq')"
   ]
  },
  {
   "cell_type": "code",
   "execution_count": 8,
   "metadata": {
    "collapsed": false
   },
   "outputs": [
    {
     "name": "stdout",
     "output_type": "stream",
     "text": [
      "Switching to regular expressions for Dick's lookup.\n"
     ]
    },
    {
     "data": {
      "text/plain": [
       "[('DKS', \"Dick's Sporting Goods Inc\", 'nyse')]"
      ]
     },
     "execution_count": 8,
     "metadata": {},
     "output_type": "execute_result"
    }
   ],
   "source": [
    "w.lookup(\"Dick's\")"
   ]
  },
  {
   "cell_type": "code",
   "execution_count": 9,
   "metadata": {
    "collapsed": false
   },
   "outputs": [
    {
     "name": "stdout",
     "output_type": "stream",
     "text": [
      "Switching to regular expressions for Becton lookup.\n"
     ]
    },
    {
     "data": {
      "text/plain": [
       "[('JBT', 'John Bean Technologies Corporation', 'nyse'),\n",
       " ('BGE^B', 'Baltimore Gas & Electric Company', 'nyse'),\n",
       " ('BPI', 'Bridgepoint Education, Inc.', 'nyse'),\n",
       " ('BR', 'Broadridge Financial Solutions, Inc.', 'nyse'),\n",
       " ('WAB', 'Westinghouse Air Brake Technologies Corporation', 'nyse'),\n",
       " ('BTZ', 'BlackRock Credit Allocation Income Trust', 'nyse'),\n",
       " ('BNED', 'Barnes & Noble Education, Inc', 'nyse'),\n",
       " ('BAC', 'Bank of America Corporation', 'nyse'),\n",
       " ('BDX', 'Becton, Dickinson and Company', 'nyse'),\n",
       " ('BIT', 'BlackRock Multi-Sector Income Trust', 'nyse'),\n",
       " ('INF', 'Brookfield Global Listed Infrastructure Income Fund', 'nyse'),\n",
       " ('BSX', 'Boston Scientific Corporation', 'nyse'),\n",
       " ('BHE', 'Benchmark Electronics, Inc.', 'nyse'),\n",
       " ('IBM', 'International Business Machines Corporation', 'nyse')]"
      ]
     },
     "execution_count": 9,
     "metadata": {},
     "output_type": "execute_result"
    }
   ],
   "source": [
    "w.lookup('Becton',se = 'nyse')"
   ]
  },
  {
   "cell_type": "code",
   "execution_count": 10,
   "metadata": {
    "collapsed": false
   },
   "outputs": [
    {
     "name": "stdout",
     "output_type": "stream",
     "text": [
      "Switching to regular expressions for Intel lookup.\n",
      "Switching to regular expressions for BD lookup.\n"
     ]
    },
    {
     "data": {
      "text/plain": [
       "[('ICPT', 'Intercept Pharmaceuticals, Inc.', 'nasdaq'),\n",
       " ('IDTI', 'Integrated Device Technology, Inc.', 'nasdaq'),\n",
       " ('JMEI', 'Jumei International Holding Limited', 'nyse'),\n",
       " ('CXRX', 'Concordia International Corp.', 'nasdaq'),\n",
       " ('MSLI', 'Merus Labs International Inc.', 'nasdaq'),\n",
       " ('MATW', 'Matthews International Corporation', 'nasdaq'),\n",
       " ('INSW', 'International Seaways, Inc.', 'nyse'),\n",
       " ('NAII', 'Natural Alternatives International, Inc.', 'nasdaq'),\n",
       " ('AIN', 'Albany International Corporation', 'nyse'),\n",
       " ('IIPR', 'Innovative Industrial Properties, Inc.', 'nyse'),\n",
       " ('HNP', 'Huaneng Power International, Inc.', 'nyse'),\n",
       " ('WILC', 'G. Willi-Food International,  Ltd.', 'nasdaq'),\n",
       " ('DOOR', 'Masonite International Corporation', 'nyse'),\n",
       " ('CCI', 'Crown Castle International Corporation', 'nyse'),\n",
       " ('TASR', 'TASER International, Inc.', 'nasdaq'),\n",
       " ('VIGI', 'Vanguard International Dividend Appreciation ETF', 'nasdaq'),\n",
       " ('MTD', 'Mettler-Toledo International, Inc.', 'nyse'),\n",
       " ('SYUT', 'Synutra International, Inc.', 'nasdaq'),\n",
       " ('PRXL', 'PAREXEL International Corporation', 'nasdaq'),\n",
       " ('ITEK', 'Inotek Pharmaceuticals Corporation', 'nasdaq'),\n",
       " ('FSI', 'Flexible Solutions International Inc.', 'amex'),\n",
       " ('CRAI', 'CRA International,Inc.', 'nasdaq'),\n",
       " ('CIE', 'Cobalt International Energy, Inc.', 'nyse'),\n",
       " ('FSNN', 'Fusion Telecommunications International, Inc.', 'nasdaq'),\n",
       " ('INFI', 'Infinity Pharmaceuticals, Inc.', 'nasdaq'),\n",
       " ('MGA', 'Magna International, Inc.', 'nyse'),\n",
       " ('MFT', 'Blackrock MuniYield Investment QualityFund', 'nyse'),\n",
       " ('SCI', 'Service Corporation International', 'nyse'),\n",
       " ('INTC', 'Intel Corporation', 'nasdaq'),\n",
       " ('VGM', 'Invesco Trust for Investment Grade Municipals', 'nyse'),\n",
       " ('TPX', 'Tempur Sealy International, Inc.', 'nyse'),\n",
       " ('PERY', 'Perry Ellis International Inc.', 'nasdaq'),\n",
       " ('NXN', 'Nuveen Insured New York Select Tax-Free Income Portfolio', 'nyse'),\n",
       " ('AXE', 'Anixter International Inc.', 'nyse'),\n",
       " ('SEAC', 'SeaChange International, Inc.', 'nasdaq'),\n",
       " ('CIR', 'CIRCOR International, Inc.', 'nyse'),\n",
       " ('WTW', 'Weight Watchers International Inc', 'nyse'),\n",
       " ('FPXI', 'First Trust International IPO ETF', 'nasdaq'),\n",
       " ('MANT', 'ManTech International Corporation', 'nasdaq'),\n",
       " ('RPM', 'RPM International Inc.', 'nyse'),\n",
       " ('ISHG',\n",
       "  'iShares S&P/Citigroup 1-3 Year International Treasury Bond Fun',\n",
       "  'nasdaq'),\n",
       " ('MGU', 'Macquarie Global Infrastructure Total Return Fund Inc.', 'nyse'),\n",
       " ('OIIM', 'O2Micro International Limited', 'nasdaq'),\n",
       " ('CLNT', 'Cleantech Solutions International, Inc.', 'nasdaq'),\n",
       " ('FR', 'First Industrial Realty Trust, Inc.', 'nyse'),\n",
       " ('JHX', 'James Hardie Industries plc.', 'nyse'),\n",
       " ('VTN', 'Invesco Trust  for Investment Grade New York Municipal', 'nyse'),\n",
       " ('OIS', 'Oil States International, Inc.', 'nyse'),\n",
       " ('LIQT', 'LiqTech International, Inc.', 'amex'),\n",
       " ('DGII', 'Digi International Inc.', 'nasdaq'),\n",
       " ('SWM', 'Schweitzer-Mauduit International, Inc.', 'nyse'),\n",
       " ('TIK', 'Tel-Instrument Electronics Corp.', 'amex'),\n",
       " ('SODA', 'SodaStream International Ltd.', 'nasdaq'),\n",
       " ('IGT', 'International Game Technology', 'nyse'),\n",
       " ('VRX', 'Valeant Pharmaceuticals International, Inc.', 'nyse'),\n",
       " ('IPG', 'Interpublic Group of Companies, Inc. (The)', 'nyse'),\n",
       " ('IOC', 'InterOil Corporation', 'nyse'),\n",
       " ('MAR', 'Marriott International', 'nasdaq'),\n",
       " ('QSR', 'Restaurant Brands International Inc.', 'nyse'),\n",
       " ('LOGI', 'Logitech International S.A.', 'nasdaq'),\n",
       " ('TEDU', 'Tarena International, Inc.', 'nasdaq'),\n",
       " ('TRT', 'Trio-Tech International', 'amex'),\n",
       " ('AEL', 'American Equity Investment Life Holding Company', 'nyse'),\n",
       " ('SNOW', 'Intrawest Resorts Holdings, Inc.', 'nyse'),\n",
       " ('CF', 'CF Industries Holdings, Inc.', 'nyse'),\n",
       " ('TOWR', 'Tower International, Inc.', 'nyse'),\n",
       " ('WPCS', 'WPCS International Incorporated', 'nasdaq'),\n",
       " ('NTLA', 'Intellia Therapeutics, Inc.', 'nasdaq'),\n",
       " ('ITGR', 'Integer Holdings Corporation', 'nyse'),\n",
       " ('VDSI', 'VASCO Data Security International, Inc.', 'nasdaq'),\n",
       " ('ICE', 'Intercontinental Exchange Inc.', 'nyse'),\n",
       " ('EAT', 'Brinker International, Inc.', 'nyse'),\n",
       " ('CRL', 'Charles River Laboratories International, Inc.', 'nyse'),\n",
       " ('HAYN', 'Haynes International, Inc.', 'nasdaq'),\n",
       " ('NUTR', 'Nutraceutical International Corporation', 'nasdaq'),\n",
       " ('SUP', 'Superior Industries International, Inc.', 'nyse'),\n",
       " ('ZX', 'China Zenix Auto International Limited', 'nyse'),\n",
       " ('PM', 'Philip Morris International Inc', 'nyse'),\n",
       " ('IDLB',\n",
       "  'PowerShares FTSE International Low Beta Equal Weight Portfolio',\n",
       "  'nasdaq'),\n",
       " ('HYZD', 'WisdomTree Interest Rate Hedged High Yield Bond Fund', 'nasdaq'),\n",
       " ('VVPR', 'VivoPower International PLC', 'nasdaq'),\n",
       " ('SFL', 'Ship Finance International Limited', 'nyse'),\n",
       " ('ENDP', 'Endo International plc', 'nasdaq'),\n",
       " ('RELV', \"Reliv' International, Inc.\", 'nasdaq'),\n",
       " ('INSI', 'Insight Select Income Fund', 'nyse'),\n",
       " ('AIT', 'Applied Industrial Technologies, Inc.', 'nyse'),\n",
       " ('VXUS', 'Vanguard Total International Stock ETF', 'nasdaq'),\n",
       " ('GPIC', 'Gaming Partners International Corporation', 'nasdaq'),\n",
       " ('IPKW', 'PowerShares International BuyBack Achievers Portfolio', 'nasdaq'),\n",
       " ('GOL', 'Gol Linhas Aereas Inteligentes S.A.', 'nyse'),\n",
       " ('I', 'Intelsat S.A.', 'nyse'),\n",
       " ('MDSY', 'ModSys International Ltd.', 'nasdaq'),\n",
       " ('NTIC', 'Northern Technologies International Corporation', 'nasdaq'),\n",
       " ('KFY', 'Korn/Ferry International', 'nyse'),\n",
       " ('HSII', 'Heidrick & Struggles International, Inc.', 'nasdaq'),\n",
       " ('MZF', 'Managed Duration Investment Grade Municipal Fund', 'nyse'),\n",
       " ('GNUS', 'Genius Brands International, Inc.', 'nasdaq'),\n",
       " ('CMP', 'Compass Minerals International, Inc.', 'nyse'),\n",
       " ('INXN', 'InterXion Holding N.V.', 'nyse'),\n",
       " ('HASI', 'Hannon Armstrong Sustainable Infrastructure Capital, Inc.', 'nyse'),\n",
       " ('IP', 'International Paper Company', 'nyse'),\n",
       " ('CID',\n",
       "  'Victory CEMP International High Div Volatility Wtd Index ETF',\n",
       "  'nasdaq'),\n",
       " ('LII', 'Lennox International, Inc.', 'nyse'),\n",
       " ('SXI', 'Standex International Corporation', 'nyse'),\n",
       " ('CAI', 'CAI International, Inc.', 'nyse'),\n",
       " ('MFL', 'Blackrock MuniHoldings Investment Quality Fund', 'nyse'),\n",
       " ('PRN', 'PowerShares DWA Industrials Momentum Portfolio', 'nasdaq'),\n",
       " ('BAF', 'BlackRock Income Investment Quality Trust', 'nyse'),\n",
       " ('ORI', 'Old Republic International Corporation', 'nyse'),\n",
       " ('VRIG', 'PowerShares Variable Rate Investment Grade Portfolio', 'nasdaq'),\n",
       " ('EROS', 'Eros International PLC', 'nyse'),\n",
       " ('MPSX', 'Multi Packaging Solutions International Limited', 'nyse'),\n",
       " ('TRTN', 'Triton International Limited', 'nyse'),\n",
       " ('RDI', 'Reading International Inc', 'nasdaq'),\n",
       " ('BKN', 'BlackRock Investment Quality Municipal Trust Inc. (The)', 'nyse'),\n",
       " ('INS', 'Intelligent Systems Corporation', 'amex'),\n",
       " ('ISSC', 'Innovative Solutions and Support, Inc.', 'nasdaq'),\n",
       " ('CNIT', 'China Information Technology, Inc.', 'nasdaq'),\n",
       " ('IART', 'Integra LifeSciences Holdings Corporation', 'nasdaq'),\n",
       " ('ATKR', 'Atkore International Group Inc.', 'nyse'),\n",
       " ('PCOM', 'Points International, Ltd.', 'nasdaq'),\n",
       " ('CYD', 'China Yuchai International Limited', 'nyse'),\n",
       " ('ATV', 'Acorn International, Inc.', 'nyse'),\n",
       " ('LINK', 'Interlink Electronics, Inc.', 'nasdaq'),\n",
       " ('SGMA', 'SigmaTron International, Inc.', 'nasdaq'),\n",
       " ('IMI', 'Intermolecular, Inc.', 'nasdaq'),\n",
       " ('SREV', 'ServiceSource International, Inc.', 'nasdaq'),\n",
       " ('OII', 'Oceaneering International, Inc.', 'nyse'),\n",
       " ('WFT', 'Weatherford International plc', 'nyse'),\n",
       " ('IHG', 'Intercontinental Hotels Group', 'nyse'),\n",
       " ('NBO', 'Neuberger Berman New York Intermediate Municipal Fund Inc.', 'amex'),\n",
       " ('EXPD', 'Expeditors International of Washington, Inc.', 'nasdaq'),\n",
       " ('MGI', 'Moneygram International, Inc.', 'nasdaq'),\n",
       " ('BNY',\n",
       "  'BlackRock New York Investment Quality Municipal Trust Inc. (Th',\n",
       "  'nyse'),\n",
       " ('IFF', 'Internationa Flavors & Fragrances, Inc.', 'nyse'),\n",
       " ('IHT', 'InnSuites Hospitality Trust', 'amex'),\n",
       " ('SHI', 'SINOPEC Shangai Petrochemical Company, Ltd.', 'nyse'),\n",
       " ('VCF', 'Delaware Investments Colorado Municipal Income Fund, Inc', 'amex'),\n",
       " ('CIL', 'Victory CEMP International Volatility Wtd Index ETF', 'nasdaq'),\n",
       " ('CIX', 'CompX International Inc.', 'amex'),\n",
       " ('EIX', 'Edison International', 'nyse'),\n",
       " ('KBAL', 'Kimball International, Inc.', 'nasdaq'),\n",
       " ('ITCI', 'Intra-Cellular Therapies Inc.', 'nasdaq'),\n",
       " ('OFIX', 'Orthofix International N.V.', 'nasdaq'),\n",
       " ('CSGS', 'CSG Systems International, Inc.', 'nasdaq'),\n",
       " ('ARRS', 'ARRIS International plc', 'nasdaq'),\n",
       " ('VKI', 'Invesco Advantage Municipal Income Trust II', 'amex'),\n",
       " ('INVT', 'Inventergy Global, Inc.', 'nasdaq'),\n",
       " ('RHI', 'Robert Half International Inc.', 'nyse'),\n",
       " ('MDR', 'McDermott International, Inc.', 'nyse'),\n",
       " ('CIGI', 'Colliers International Group Inc. ', 'nasdaq'),\n",
       " ('IVR^A', 'Invesco Mortgage Capital Inc.', 'nyse'),\n",
       " ('CTRP', 'Ctrip.com International, Ltd.', 'nasdaq'),\n",
       " ('AOI', 'Alliance One International, Inc.', 'nyse'),\n",
       " ('HPJ', 'Highpower International Inc', 'nasdaq'),\n",
       " ('TORM          ', 'TOR Minerals International Inc', 'nasdaq'),\n",
       " ('NBH', 'Neuberger Berman Intermediate Municipal Fund Inc.', 'amex'),\n",
       " ('AGII', 'Argo Group International Holdings, Ltd.', 'nasdaq'),\n",
       " ('CORI', 'Corium International, Inc.', 'nasdaq'),\n",
       " ('ICFI', 'ICF International, Inc.', 'nasdaq'),\n",
       " ('MERC', 'Mercer International Inc.', 'nasdaq'),\n",
       " ('WCC', 'WESCO International, Inc.', 'nyse'),\n",
       " ('BNDX', 'Vanguard Total International Bond ETF', 'nasdaq'),\n",
       " ('IDN', 'Intellicheck Mobilisa, Inc.', 'amex'),\n",
       " ('IID', 'Voya International High Dividend Equity Income Fund', 'nyse'),\n",
       " ('WHLM', 'Wilhelmina International, Inc.', 'nasdaq'),\n",
       " ('JCI', 'Johnson Controls International plc', 'nyse'),\n",
       " ('IBP', 'Installed Building Products, Inc.', 'nyse'),\n",
       " ('CACI', 'CACI International, Inc.', 'nyse'),\n",
       " ('RFDI',\n",
       "  'First Trust RiverFront Dynamic Developed International ETF',\n",
       "  'nasdaq'),\n",
       " ('VOXX', 'VOXX International Corporation', 'nasdaq'),\n",
       " ('IPCC', 'Infinity Property and Casualty Corporation', 'nasdaq'),\n",
       " ('MDLZ', 'Mondelez International, Inc.', 'nasdaq'),\n",
       " ('PSCT',\n",
       "  'PowerShares S&P SmallCap Information Technology Portfolio',\n",
       "  'nasdaq'),\n",
       " ('BOTZ',\n",
       "  'Global X Robotics & Artificial Intelligence Thematic ETF',\n",
       "  'nasdaq'),\n",
       " ('IDCC', 'InterDigital, Inc.', 'nasdaq'),\n",
       " ('IPCI', 'Intellipharmaceutics International Inc.', 'nasdaq'),\n",
       " ('IGOV', 'iShares S&P/Citigroup International Treasury Bond Fund', 'nasdaq'),\n",
       " ('ISIL', 'Intersil Corporation', 'nasdaq'),\n",
       " ('YIN', 'Yintech Investment Holdings Limited', 'nasdaq'),\n",
       " ('ISRG', 'Intuitive Surgical, Inc.', 'nasdaq'),\n",
       " ('NID', 'Nuveen Intermediate Duration Municipal Term Fund', 'nyse'),\n",
       " ('HON', 'Honeywell International Inc.', 'nyse'),\n",
       " ('CCIH', 'ChinaCache International Holdings Ltd.', 'nasdaq'),\n",
       " ('AIG', 'American International Group, Inc.', 'nyse'),\n",
       " ('HAR', 'Harman International Industries, Incorporated', 'nyse'),\n",
       " ('ITG', 'Investment Technology Group, Inc.', 'nyse'),\n",
       " ('PID', 'PowerShares International Dividend Achievers Portfolio', 'nasdaq'),\n",
       " ('IBOC', 'International Bancshares Corporation', 'nasdaq'),\n",
       " ('IDE', 'Voya Infrastructure, Industrials and Materials Fund', 'nyse'),\n",
       " ('CHH', 'Choice Hotels International, Inc.', 'nyse'),\n",
       " ('CLUB', 'Town Sports International Holdings, Inc.', 'nasdaq'),\n",
       " ('REXR', 'Rexford Industrial Realty, Inc.', 'nyse'),\n",
       " ('OXFD', 'Oxford Immunotec Global PLC', 'nasdaq'),\n",
       " ('IFV', 'First Trust Dorsey Wright International Focus 5 ETF', 'nasdaq'),\n",
       " ('NBW',\n",
       "  'Neuberger Berman California Intermediate Municipal Fund Inc.',\n",
       "  'amex'),\n",
       " ('ATNI', 'ATN International, Inc.', 'nasdaq'),\n",
       " ('HIL', 'Hill International, Inc.', 'nyse'),\n",
       " ('BAX', 'Baxter International Inc.', 'nyse'),\n",
       " ('BDSI', 'BioDelivery Sciences International, Inc.', 'nasdaq'),\n",
       " ('THM', 'International Tower Hill Mines Ltd', 'amex'),\n",
       " ('EVK', 'Ever-Glory International Group, Inc.', 'nasdaq'),\n",
       " ('INFU', 'InfuSystems Holdings, Inc.', 'amex'),\n",
       " ('EIGI', 'Endurance International Group Holdings, Inc.', 'nasdaq'),\n",
       " ('MNTX', 'Manitex International, Inc.', 'nasdaq'),\n",
       " ('GRIF', 'Griffin Industrial Realty, Inc.', 'nasdaq'),\n",
       " ('ISCA', 'International Speedway Corporation', 'nasdaq'),\n",
       " ('IRET', 'Investors Real Estate Trust', 'nyse'),\n",
       " ('IIIN', 'Insteel Industries, Inc.', 'nasdaq'),\n",
       " ('NSAT', 'Norsat International Inc.', 'amex'),\n",
       " ('CXH', 'Colonial Investment Grade Municipal Trust', 'nyse'),\n",
       " ('YDIV',\n",
       "  'First Trust International Multi-Asset Diversified Income Index',\n",
       "  'nasdaq'),\n",
       " ('IBM', 'International Business Machines Corporation', 'nyse'),\n",
       " ('PNQI', 'PowerShares Nasdaq Internet Portfolio', 'nasdaq'),\n",
       " ('MGM', 'MGM Resorts International', 'nyse'),\n",
       " ('VMM',\n",
       "  'Delaware Investments Minnesota Municipal Income Fund II, Inc.',\n",
       "  'amex'),\n",
       " ('NAV', 'Navistar International Corporation', 'nyse'),\n",
       " ('SMI', 'Semiconductor  Manufacturing International Corporation', 'nyse'),\n",
       " ('FI', \"Frank's International N.V.\", 'nyse'),\n",
       " ('SPNS', 'Sapiens International Corporation N.V.', 'nasdaq'),\n",
       " ('FPT', 'Federated Premier Intermediate Municipal Income Fund', 'nyse'),\n",
       " ('VFL', 'Delaware Investments Florida Insured Municipal Income Fund', 'amex'),\n",
       " ('TWI', 'Titan International, Inc.', 'nyse'),\n",
       " ('PZZA', \"Papa John's International, Inc.\", 'nasdaq'),\n",
       " ('VIDI', 'Vident International Equity Fund', 'nasdaq'),\n",
       " ('VYMI', 'Vanguard International High Dividend Yield ETF', 'nasdaq'),\n",
       " ('IQNT', 'Inteliquent, Inc.', 'nasdaq'),\n",
       " ('NIQ', 'Nuveenn Intermediate Duration Quality Municipal Term Fund', 'nyse'),\n",
       " ('VSH', 'Vishay Intertechnology, Inc.', 'nyse'),\n",
       " ('BNSO', 'Bonso Electronics International, Inc.', 'nasdaq'),\n",
       " ('ENVA', 'Enova International, Inc.', 'nyse'),\n",
       " ('PSIX', 'Power Solutions International, Inc.', 'nasdaq'),\n",
       " ('IGLD', 'Internet Gold Golden Lines Ltd.', 'nasdaq'),\n",
       " ('NXC', 'Nuveen Insured California Select Tax-Free Income Portfolio', 'nyse'),\n",
       " ('IXUS', 'iShares Core MSCI Total International Stock ETF', 'nasdaq'),\n",
       " ('IOT', 'Income Opportunity Realty Investors, Inc.', 'amex'),\n",
       " ('SAIC', 'SCIENCE APPLICATIONS INTERNATIONAL CORPORATION', 'nyse'),\n",
       " ('IVR', 'INVESCO MORTGAGE CAPITAL INC', 'nyse'),\n",
       " ('BGY', 'BLACKROCK INTERNATIONAL, LTD.', 'nyse'),\n",
       " ('KBWD', 'PowerShares KBW High Dividend Yield Financial Portfolio', 'nasdaq'),\n",
       " ('BLIN          ', 'Bridgeline Digital, Inc.', 'nasdaq'),\n",
       " ('LND', 'Brasilagro Cia Brasileira De Propriedades Agricolas', 'nyse'),\n",
       " ('BHL', 'Blackrock Defined Opportunity Credit Trust', 'nyse'),\n",
       " ('ABMD', 'ABIOMED, Inc.', 'nasdaq'),\n",
       " ('BGH', 'Babson Global Short Duration High Yield Fund', 'nyse'),\n",
       " ('DSU', 'Blackrock Debt Strategies Fund, Inc.', 'nyse'),\n",
       " ('MB', 'MINDBODY, Inc.', 'nasdaq'),\n",
       " ('ADRU', 'BLDRS Europe 100 ADR Index Fund', 'nasdaq'),\n",
       " ('BDJ', 'Blackrock Enhanced Equity Dividend Trust', 'nyse'),\n",
       " ('BDX', 'Becton, Dickinson and Company', 'nyse'),\n",
       " ('CBD', 'Companhia Brasileira de Distribuicao', 'nyse'),\n",
       " ('MUI', 'Blackrock Muni Intermediate Duration Fund Inc', 'nyse'),\n",
       " ('BCH', 'Banco De Chile', 'nyse'),\n",
       " ('FBZ', 'First Trust Brazil AlphaDEX Fund', 'nasdaq'),\n",
       " ('SWJ', 'Stanley Black & Decker, Inc.', 'nyse'),\n",
       " ('TPVG', 'TriplePoint Venture Growth BDC Corp.', 'nyse'),\n",
       " ('ADRD', 'BLDRS Developed Markets 100 ADR Index Fund', 'nasdaq'),\n",
       " ('BGY', 'BLACKROCK INTERNATIONAL, LTD.', 'nyse'),\n",
       " ('ADRE', 'BLDRS Emerging Markets 50 ADR Index Fund', 'nasdaq'),\n",
       " ('MNE', 'Blackrock Muni New York Intermediate Duration Fund Inc', 'nyse'),\n",
       " ('BDSI', 'BioDelivery Sciences International, Inc.', 'nasdaq'),\n",
       " ('GSBD', 'Goldman Sachs BDC, Inc.', 'nyse'),\n",
       " ('AGND',\n",
       "  'WisdomTree Barclays Negative Duration U.S. Aggregate Bond Fund',\n",
       "  'nasdaq'),\n",
       " ('ADRA', 'BLDRS Asia 50 ADR Index Fund', 'nasdaq'),\n",
       " ('SBS',\n",
       "  'Companhia de saneamento Basico Do Estado De Sao Paulo - Sabesp',\n",
       "  'nyse'),\n",
       " ('GBDC', 'Golub Capital BDC, Inc.', 'nasdaq'),\n",
       " ('DTLA^', 'Brookfield DTLA Inc.', 'nyse'),\n",
       " ('BDE', 'Black Diamond, Inc.', 'nasdaq'),\n",
       " ('KBWD', 'PowerShares KBW High Dividend Yield Financial Portfolio', 'nasdaq'),\n",
       " ('BLIN          ', 'Bridgeline Digital, Inc.', 'nasdaq'),\n",
       " ('LND', 'Brasilagro Cia Brasileira De Propriedades Agricolas', 'nyse'),\n",
       " ('BHL', 'Blackrock Defined Opportunity Credit Trust', 'nyse'),\n",
       " ('ABMD', 'ABIOMED, Inc.', 'nasdaq'),\n",
       " ('BGH', 'Babson Global Short Duration High Yield Fund', 'nyse'),\n",
       " ('DSU', 'Blackrock Debt Strategies Fund, Inc.', 'nyse'),\n",
       " ('MB', 'MINDBODY, Inc.', 'nasdaq'),\n",
       " ('ADRU', 'BLDRS Europe 100 ADR Index Fund', 'nasdaq'),\n",
       " ('BDJ', 'Blackrock Enhanced Equity Dividend Trust', 'nyse'),\n",
       " ('BDX', 'Becton, Dickinson and Company', 'nyse'),\n",
       " ('CBD', 'Companhia Brasileira de Distribuicao', 'nyse'),\n",
       " ('MUI', 'Blackrock Muni Intermediate Duration Fund Inc', 'nyse'),\n",
       " ('BCH', 'Banco De Chile', 'nyse'),\n",
       " ('FBZ', 'First Trust Brazil AlphaDEX Fund', 'nasdaq'),\n",
       " ('SWJ', 'Stanley Black & Decker, Inc.', 'nyse'),\n",
       " ('TPVG', 'TriplePoint Venture Growth BDC Corp.', 'nyse'),\n",
       " ('ADRD', 'BLDRS Developed Markets 100 ADR Index Fund', 'nasdaq'),\n",
       " ('BGY', 'BLACKROCK INTERNATIONAL, LTD.', 'nyse'),\n",
       " ('ADRE', 'BLDRS Emerging Markets 50 ADR Index Fund', 'nasdaq'),\n",
       " ('MNE', 'Blackrock Muni New York Intermediate Duration Fund Inc', 'nyse'),\n",
       " ('BDSI', 'BioDelivery Sciences International, Inc.', 'nasdaq'),\n",
       " ('GSBD', 'Goldman Sachs BDC, Inc.', 'nyse'),\n",
       " ('AGND',\n",
       "  'WisdomTree Barclays Negative Duration U.S. Aggregate Bond Fund',\n",
       "  'nasdaq'),\n",
       " ('ADRA', 'BLDRS Asia 50 ADR Index Fund', 'nasdaq'),\n",
       " ('SBS',\n",
       "  'Companhia de saneamento Basico Do Estado De Sao Paulo - Sabesp',\n",
       "  'nyse'),\n",
       " ('GBDC', 'Golub Capital BDC, Inc.', 'nasdaq'),\n",
       " ('DTLA^', 'Brookfield DTLA Inc.', 'nyse'),\n",
       " ('BDE', 'Black Diamond, Inc.', 'nasdaq')]"
      ]
     },
     "execution_count": 10,
     "metadata": {},
     "output_type": "execute_result"
    }
   ],
   "source": [
    "basicutils.bulk_search(w.lookup,['Intel', 'BD'])"
   ]
  },
  {
   "cell_type": "code",
   "execution_count": 11,
   "metadata": {
    "collapsed": false
   },
   "outputs": [
    {
     "data": {
      "text/plain": [
       "[('n/a', 'Intel Corporation')]"
      ]
     },
     "execution_count": 11,
     "metadata": {},
     "output_type": "execute_result"
    }
   ],
   "source": [
    "w.lookup('Intel Corporation', search_info = ['ipoyear', 'name'])"
   ]
  },
  {
   "cell_type": "code",
   "execution_count": 12,
   "metadata": {
    "collapsed": false
   },
   "outputs": [
    {
     "data": {
      "text/plain": [
       "[('2001', 'Blackrock Core Bond Trust'),\n",
       " ('2006', 'BlackRock Credit Allocation Income Trust')]"
      ]
     },
     "execution_count": 12,
     "metadata": {},
     "output_type": "execute_result"
    }
   ],
   "source": [
    "basicutils.bulk_search(w.lookup,['Blackrock Core Bond Trust', 'BlackRock Credit Allocation Income Trust'], search_info = ['ipoyear', 'name'])"
   ]
  },
  {
   "cell_type": "code",
   "execution_count": 13,
   "metadata": {
    "collapsed": false
   },
   "outputs": [
    {
     "data": {
      "text/plain": [
       "[('BDX', 'Becton, Dickinson and Company', 'nyse')]"
      ]
     },
     "execution_count": 13,
     "metadata": {},
     "output_type": "execute_result"
    }
   ],
   "source": [
    "w.lookup('Becton, Dickinson and Company')"
   ]
  },
  {
   "cell_type": "code",
   "execution_count": 14,
   "metadata": {
    "collapsed": false
   },
   "outputs": [],
   "source": [
    "basicutils.json_dump('data/cached_searches.json')"
   ]
  },
  {
   "cell_type": "code",
   "execution_count": 15,
   "metadata": {
    "collapsed": true
   },
   "outputs": [],
   "source": [
    "basicutils.clear_cache('data/cached_searches.json')"
   ]
  },
  {
   "cell_type": "code",
   "execution_count": null,
   "metadata": {
    "collapsed": false
   },
   "outputs": [],
   "source": []
  },
  {
   "cell_type": "code",
   "execution_count": null,
   "metadata": {
    "collapsed": true
   },
   "outputs": [],
   "source": []
  }
 ],
 "metadata": {
  "anaconda-cloud": {},
  "kernelspec": {
   "display_name": "Python [conda root]",
   "language": "python",
   "name": "conda-root-py"
  },
  "language_info": {
   "codemirror_mode": {
    "name": "ipython",
    "version": 3
   },
   "file_extension": ".py",
   "mimetype": "text/x-python",
   "name": "python",
   "nbconvert_exporter": "python",
   "pygments_lexer": "ipython3",
   "version": "3.5.2"
  }
 },
 "nbformat": 4,
 "nbformat_minor": 1
}
