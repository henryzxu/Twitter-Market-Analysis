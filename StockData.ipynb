{
 "cells": [
  {
   "cell_type": "code",
   "execution_count": 6,
   "metadata": {
    "collapsed": false
   },
   "outputs": [],
   "source": [
    "import stockutils\n",
    "import pandas_datareader, re, sqlite3"
   ]
  },
  {
   "cell_type": "code",
   "execution_count": 7,
   "metadata": {
    "collapsed": false
   },
   "outputs": [],
   "source": [
    "class StockData:\n",
    "    def __init__(self, se, sql = False, update = False):\n",
    "        self.company_table = stockutils.company_table(se = se, update = update)\n",
    "        self.se = se\n",
    "        self.sql = sql\n",
    "   \n",
    "    def lookup_ticker(self, company_name):\n",
    "        \"\"\"Converts company_name to ticker symbol. Returns a tuple of (symbol, company name) \n",
    "        or returns an empty table if company or ticker is not found.\"\"\"\n",
    "        if isinstance(company_name,str):\n",
    "            company_name = [company_name]\n",
    "        result_table = [] \n",
    "        if not self.sql:\n",
    "            for name in company_name:\n",
    "                name = r'.*\\s*'+name.lower()+r'\\s.*'\n",
    "                for row in self.company_table:\n",
    "                    match = re.search(name,row[1].lower()) \n",
    "                    if match:\n",
    "                        result_table.append((row[0],row[1]))\n",
    "        else:\n",
    "            conn = sqlite3.connect('data/companysql' + self.se + '.sql')\n",
    "            c = conn.cursor()\n",
    "            for name in company_name:\n",
    "                query = ('%'+name+' %',)\n",
    "                for row in c.execute('SELECT symbol,name FROM companytable WHERE lower(name) LIKE ?', query):\n",
    "                    result_table.append(row)\n",
    "            conn.close()\n",
    "        return result_table.pop() if len(result_table) == 1 else result_table"
   ]
  },
  {
   "cell_type": "code",
   "execution_count": 12,
   "metadata": {
    "collapsed": false
   },
   "outputs": [],
   "source": [
    "x = StockData('nasdaq', sql = True)"
   ]
  },
  {
   "cell_type": "code",
   "execution_count": 4,
   "metadata": {
    "collapsed": true
   },
   "outputs": [],
   "source": [
    "y = StockData('amex', sql = True)"
   ]
  },
  {
   "cell_type": "code",
   "execution_count": 15,
   "metadata": {
    "collapsed": false
   },
   "outputs": [],
   "source": [
    "z = StockData('nyse')"
   ]
  },
  {
   "cell_type": "code",
   "execution_count": 13,
   "metadata": {
    "collapsed": false
   },
   "outputs": [
    {
     "data": {
      "text/plain": [
       "('NVDA', 'NVIDIA Corporation')"
      ]
     },
     "execution_count": 13,
     "metadata": {},
     "output_type": "execute_result"
    }
   ],
   "source": [
    "x.lookup_ticker('Nvidia')"
   ]
  },
  {
   "cell_type": "code",
   "execution_count": 14,
   "metadata": {
    "collapsed": false
   },
   "outputs": [
    {
     "data": {
      "text/plain": [
       "[('INTC', 'Intel Corporation'),\n",
       " ('NVDA', 'NVIDIA Corporation'),\n",
       " ('AAPL', 'Apple Inc.'),\n",
       " ('MSFT', 'Microsoft Corporation')]"
      ]
     },
     "execution_count": 14,
     "metadata": {},
     "output_type": "execute_result"
    }
   ],
   "source": [
    "x.lookup_ticker(['Intel', 'Nvidia', 'Apple', 'Microsoft'])"
   ]
  },
  {
   "cell_type": "code",
   "execution_count": 16,
   "metadata": {
    "collapsed": false
   },
   "outputs": [
    {
     "data": {
      "text/plain": [
       "('DKS', 'Dick&#39;s Sporting Goods Inc')"
      ]
     },
     "execution_count": 16,
     "metadata": {},
     "output_type": "execute_result"
    }
   ],
   "source": [
    "z.lookup_ticker(\"Sporting\")"
   ]
  },
  {
   "cell_type": "code",
   "execution_count": null,
   "metadata": {
    "collapsed": true
   },
   "outputs": [],
   "source": []
  }
 ],
 "metadata": {
  "anaconda-cloud": {},
  "kernelspec": {
   "display_name": "Python [conda root]",
   "language": "python",
   "name": "conda-root-py"
  },
  "language_info": {
   "codemirror_mode": {
    "name": "ipython",
    "version": 3
   },
   "file_extension": ".py",
   "mimetype": "text/x-python",
   "name": "python",
   "nbconvert_exporter": "python",
   "pygments_lexer": "ipython3",
   "version": "3.5.2"
  }
 },
 "nbformat": 4,
 "nbformat_minor": 1
}
