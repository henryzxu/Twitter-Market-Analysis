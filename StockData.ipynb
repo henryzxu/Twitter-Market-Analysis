{
 "cells": [
  {
   "cell_type": "code",
   "execution_count": 1,
   "metadata": {
    "collapsed": false
   },
   "outputs": [],
   "source": [
    "import stockutils\n",
    "import pandas_datareader.data as web, re, sqlite3, datetime"
   ]
  },
  {
   "cell_type": "code",
   "execution_count": 120,
   "metadata": {
    "collapsed": false
   },
   "outputs": [],
   "source": [
    "class StockData:\n",
    "    def __init__(self, se = None, update = False):\n",
    "        self.company_table = stockutils.company_table(se = se, update = update)\n",
    "        self.se = se\n",
    "   \n",
    "    def lookup_ticker(self, company_name, sql = True, lookup = False):\n",
    "        \"\"\"Converts company_name to ticker symbol. Returns a tuple of (symbol, company name) \n",
    "        or returns an empty table if company or ticker is not found.\"\"\"\n",
    "        if isinstance(company_name,str):\n",
    "            company_name = [company_name]\n",
    "        result_table, conn = [], None \n",
    "        if not sql:\n",
    "            for name in company_name:\n",
    "                for name in [name, name.upper()]:\n",
    "                    query = r\".*\" + r\".*\".join(list(name)) + r\".*\"\n",
    "                    for row in self.company_table.keys():\n",
    "                        match = re.search(query,row)\n",
    "                        if match:\n",
    "                            ticker = self.lookup_ticker(match.group(), lookup = True)\n",
    "                            if ticker:\n",
    "                                result_table.extend(ticker)\n",
    "        else:\n",
    "            conn = sqlite3.connect('data/completecompanylist.sql')\n",
    "            c = conn.cursor()\n",
    "            for name in company_name:\n",
    "                if self.se: \n",
    "                    query = (name, self.se,)\n",
    "                    rows = c.execute('SELECT symbol,name,se FROM companytable WHERE name LIKE ? AND se = ?;', query).fetchall()\n",
    "                else:\n",
    "                    query = (name,)\n",
    "                    rows = c.execute('SELECT symbol,name,se FROM companytable WHERE name LIKE ?;', query).fetchall()\n",
    "                if rows:\n",
    "                    result_table.extend(rows)\n",
    "                else:\n",
    "                    if not lookup:\n",
    "                        print('Switching to table for ' + name + ' lookup.')\n",
    "                        found = self.lookup_ticker(name, sql = False)\n",
    "                        if found:\n",
    "                            for item in found:\n",
    "                                result_table.append(item)\n",
    "                        else:\n",
    "                            result_table.append(('N/A', name))\n",
    "            conn.close()\n",
    "        return result_table\n",
    "        \n",
    "    def ipo_year(self,company_name, sql = True):\n",
    "        if isinstance(company_name,str):\n",
    "            company_name = [company_name]\n",
    "        list_years = []\n",
    "        conn = sqlite3.connect('data/completecompanylist.sql')\n",
    "        c = conn.cursor()\n",
    "        for name in company_name:\n",
    "            query = (name, )\n",
    "            list_years.extend(c.execute('SELECT ipoyear, symbol FROM companytable WHERE name LIKE ?;', query).fetchall())\n",
    "        return list_years\n",
    "            \n",
    "#       def stock_price(self, ticker, date):\n",
    "            \n",
    "        \n",
    "        "
   ]
  },
  {
   "cell_type": "code",
   "execution_count": 25,
   "metadata": {
    "collapsed": false,
    "scrolled": true
   },
   "outputs": [
    {
     "name": "stdout",
     "output_type": "stream",
     "text": [
      "['lastsale', 'ipoyear', 'sector', 'summaryquote', 'industry', 'marketcap', 'symbol', 'name']\n",
      "['lastsale', 'ipoyear', 'sector', 'summaryquote', 'industry', 'marketcap', 'symbol', 'name']\n",
      "['lastsale', 'ipoyear', 'sector', 'summaryquote', 'industry', 'marketcap', 'symbol', 'name']\n"
     ]
    }
   ],
   "source": [
    "#update\n",
    "w = StockData(update = True)"
   ]
  },
  {
   "cell_type": "code",
   "execution_count": 96,
   "metadata": {
    "collapsed": false
   },
   "outputs": [],
   "source": [
    "w = StockData()"
   ]
  },
  {
   "cell_type": "code",
   "execution_count": 113,
   "metadata": {
    "collapsed": false
   },
   "outputs": [],
   "source": [
    "x = StockData('nasdaq')"
   ]
  },
  {
   "cell_type": "code",
   "execution_count": 98,
   "metadata": {
    "collapsed": true
   },
   "outputs": [],
   "source": [
    "y = StockData('amex')"
   ]
  },
  {
   "cell_type": "code",
   "execution_count": 121,
   "metadata": {
    "collapsed": false
   },
   "outputs": [],
   "source": [
    "z = StockData('nyse')"
   ]
  },
  {
   "cell_type": "code",
   "execution_count": 100,
   "metadata": {
    "collapsed": false
   },
   "outputs": [
    {
     "data": {
      "text/plain": [
       "[('NVDA', 'NVIDIA Corporation', 'nasdaq')]"
      ]
     },
     "execution_count": 100,
     "metadata": {},
     "output_type": "execute_result"
    }
   ],
   "source": [
    "x.lookup_ticker('NVIDIA Corporation')"
   ]
  },
  {
   "cell_type": "code",
   "execution_count": 107,
   "metadata": {
    "collapsed": false
   },
   "outputs": [
    {
     "name": "stdout",
     "output_type": "stream",
     "text": [
      "Switching to table for Nvidia lookup.\n",
      "Switching to table for Apple lookup.\n",
      "Switching to table for Microsoft lookup.\n",
      "Switching to table for Becton Dickinson lookup.\n"
     ]
    },
    {
     "data": {
      "text/plain": [
       "[('INTC', 'Intel Corporation', 'nasdaq'),\n",
       " ('NVDA', 'NVIDIA Corporation', 'nasdaq'),\n",
       " ('AMCC', 'Applied Micro Circuits Corporation', 'nasdaq'),\n",
       " ('AGTC', 'Applied Genetic Technologies Corporation', 'nasdaq'),\n",
       " ('AMAT', 'Applied Materials, Inc.', 'nasdaq'),\n",
       " ('AAOI', 'Applied Optoelectronics, Inc.', 'nasdaq'),\n",
       " ('AAPL', 'Apple Inc.', 'nasdaq'),\n",
       " ('ARCI', 'Appliance Recycling Centers of America, Inc.', 'nasdaq'),\n",
       " ('APDN', 'Applied DNA Sciences Inc', 'nasdaq'),\n",
       " ('MSFT', 'Microsoft Corporation', 'nasdaq'),\n",
       " ('N/A', 'Becton Dickinson')]"
      ]
     },
     "execution_count": 107,
     "metadata": {},
     "output_type": "execute_result"
    }
   ],
   "source": [
    "x.lookup_ticker(['Intel Corporation', 'Nvidia', 'Apple', 'Microsoft', 'Becton Dickinson'])"
   ]
  },
  {
   "cell_type": "code",
   "execution_count": 102,
   "metadata": {
    "collapsed": false
   },
   "outputs": [
    {
     "name": "stdout",
     "output_type": "stream",
     "text": [
      "Switching to table for Dick's lookup.\n"
     ]
    },
    {
     "data": {
      "text/plain": [
       "[('DKS', \"Dick's Sporting Goods Inc\", 'nyse')]"
      ]
     },
     "execution_count": 102,
     "metadata": {},
     "output_type": "execute_result"
    }
   ],
   "source": [
    "z.lookup_ticker(\"Dick's\")"
   ]
  },
  {
   "cell_type": "code",
   "execution_count": 103,
   "metadata": {
    "collapsed": false
   },
   "outputs": [
    {
     "name": "stdout",
     "output_type": "stream",
     "text": [
      "Switching to table for Becton lookup.\n"
     ]
    },
    {
     "data": {
      "text/plain": [
       "[('BSX', 'Boston Scientific Corporation', 'nyse'),\n",
       " ('WAB', 'Westinghouse Air Brake Technologies Corporation', 'nyse'),\n",
       " ('INF', 'Brookfield Global Listed Infrastructure Income Fund', 'nyse'),\n",
       " ('BTZ', 'BlackRock Credit Allocation Income Trust', 'nyse'),\n",
       " ('BR', 'Broadridge Financial Solutions, Inc.', 'nyse'),\n",
       " ('BHE', 'Benchmark Electronics, Inc.', 'nyse'),\n",
       " ('BDX', 'Becton, Dickinson and Company', 'nyse'),\n",
       " ('IBM', 'International Business Machines Corporation', 'nyse'),\n",
       " ('BGE^B', 'Baltimore Gas & Electric Company', 'nyse'),\n",
       " ('BAC', 'Bank of America Corporation', 'nyse'),\n",
       " ('BNED', 'Barnes & Noble Education, Inc', 'nyse'),\n",
       " ('JBT', 'John Bean Technologies Corporation', 'nyse'),\n",
       " ('BIT', 'BlackRock Multi-Sector Income Trust', 'nyse'),\n",
       " ('BPI', 'Bridgepoint Education, Inc.', 'nyse')]"
      ]
     },
     "execution_count": 103,
     "metadata": {},
     "output_type": "execute_result"
    }
   ],
   "source": [
    "z.lookup_ticker('Becton')"
   ]
  },
  {
   "cell_type": "code",
   "execution_count": 104,
   "metadata": {
    "collapsed": false
   },
   "outputs": [
    {
     "name": "stdout",
     "output_type": "stream",
     "text": [
      "Switching to table for Intel lookup.\n",
      "Switching to table for BD lookup.\n"
     ]
    },
    {
     "data": {
      "text/plain": [
       "[('OFIX', 'Orthofix International N.V.', 'nasdaq'),\n",
       " ('IQNT', 'Inteliquent, Inc.', 'nasdaq'),\n",
       " ('CYD', 'China Yuchai International Limited', 'nyse'),\n",
       " ('CID',\n",
       "  'Victory CEMP International High Div Volatility Wtd Index ETF',\n",
       "  'nasdaq'),\n",
       " ('BKN', 'BlackRock Investment Quality Municipal Trust Inc. (The)', 'nyse'),\n",
       " ('CSGS', 'CSG Systems International, Inc.', 'nasdaq'),\n",
       " ('ICPT', 'Intercept Pharmaceuticals, Inc.', 'nasdaq'),\n",
       " ('HSII', 'Heidrick & Struggles International, Inc.', 'nasdaq'),\n",
       " ('IP', 'International Paper Company', 'nyse'),\n",
       " ('ATNI', 'ATN International, Inc.', 'nasdaq'),\n",
       " ('MATW', 'Matthews International Corporation', 'nasdaq'),\n",
       " ('AXE', 'Anixter International Inc.', 'nyse'),\n",
       " ('CXRX', 'Concordia International Corp.', 'nasdaq'),\n",
       " ('ORI', 'Old Republic International Corporation', 'nyse'),\n",
       " ('ITGR', 'Integer Holdings Corporation', 'nyse'),\n",
       " ('GNUS', 'Genius Brands International, Inc.', 'nasdaq'),\n",
       " ('VIDI', 'Vident International Equity Fund', 'nasdaq'),\n",
       " ('AEL', 'American Equity Investment Life Holding Company', 'nyse'),\n",
       " ('HAYN', 'Haynes International, Inc.', 'nasdaq'),\n",
       " ('INTC', 'Intel Corporation', 'nasdaq'),\n",
       " ('EVK', 'Ever-Glory International Group, Inc.', 'nasdaq'),\n",
       " ('CMP', 'Compass Minerals International, Inc.', 'nyse'),\n",
       " ('IHG', 'Intercontinental Hotels Group', 'nyse'),\n",
       " ('GOL', 'Gol Linhas Aereas Inteligentes S.A.', 'nyse'),\n",
       " ('VRX', 'Valeant Pharmaceuticals International, Inc.', 'nyse'),\n",
       " ('INXN', 'InterXion Holding N.V.', 'nyse'),\n",
       " ('SNOW', 'Intrawest Resorts Holdings, Inc.', 'nyse'),\n",
       " ('WILC', 'G. Willi-Food International,  Ltd.', 'nasdaq'),\n",
       " ('CRL', 'Charles River Laboratories International, Inc.', 'nyse'),\n",
       " ('YIN', 'Yintech Investment Holdings Limited', 'nasdaq'),\n",
       " ('EIX', 'Edison International', 'nyse'),\n",
       " ('ISHG',\n",
       "  'iShares S&P/Citigroup 1-3 Year International Treasury Bond Fun',\n",
       "  'nasdaq'),\n",
       " ('MFL', 'Blackrock MuniHoldings Investment Quality Fund', 'nyse'),\n",
       " ('IGLD', 'Internet Gold Golden Lines Ltd.', 'nasdaq'),\n",
       " ('VVPR', 'VivoPower International PLC', 'nasdaq'),\n",
       " ('NIQ', 'Nuveenn Intermediate Duration Quality Municipal Term Fund', 'nyse'),\n",
       " ('NXN', 'Nuveen Insured New York Select Tax-Free Income Portfolio', 'nyse'),\n",
       " ('GRIF', 'Griffin Industrial Realty, Inc.', 'nasdaq'),\n",
       " ('LII', 'Lennox International, Inc.', 'nyse'),\n",
       " ('TOWR', 'Tower International, Inc.', 'nyse'),\n",
       " ('SCI', 'Service Corporation International', 'nyse'),\n",
       " ('ATV', 'Acorn International, Inc.', 'nyse'),\n",
       " ('SGMA', 'SigmaTron International, Inc.', 'nasdaq'),\n",
       " ('IPCI', 'Intellipharmaceutics International Inc.', 'nasdaq'),\n",
       " ('INSI', 'Insight Select Income Fund', 'nyse'),\n",
       " ('JCI', 'Johnson Controls International plc', 'nyse'),\n",
       " ('RPM', 'RPM International Inc.', 'nyse'),\n",
       " ('PERY', 'Perry Ellis International Inc.', 'nasdaq'),\n",
       " ('ICE', 'Intercontinental Exchange Inc.', 'nyse'),\n",
       " ('WHLM', 'Wilhelmina International, Inc.', 'nasdaq'),\n",
       " ('CHH', 'Choice Hotels International, Inc.', 'nyse'),\n",
       " ('NSAT', 'Norsat International Inc.', 'amex'),\n",
       " ('ISSC', 'Innovative Solutions and Support, Inc.', 'nasdaq'),\n",
       " ('SFL', 'Ship Finance International Limited', 'nyse'),\n",
       " ('QSR', 'Restaurant Brands International Inc.', 'nyse'),\n",
       " ('LOGI', 'Logitech International S.A.', 'nasdaq'),\n",
       " ('WCC', 'WESCO International, Inc.', 'nyse'),\n",
       " ('MSLI', 'Merus Labs International Inc.', 'nasdaq'),\n",
       " ('REXR', 'Rexford Industrial Realty, Inc.', 'nyse'),\n",
       " ('WPCS', 'WPCS International Incorporated', 'nasdaq'),\n",
       " ('FSNN', 'Fusion Telecommunications International, Inc.', 'nasdaq'),\n",
       " ('FPT', 'Federated Premier Intermediate Municipal Income Fund', 'nyse'),\n",
       " ('WTW', 'Weight Watchers International Inc', 'nyse'),\n",
       " ('ISIL', 'Intersil Corporation', 'nasdaq'),\n",
       " ('CIX', 'CompX International Inc.', 'amex'),\n",
       " ('BOTZ',\n",
       "  'Global X Robotics & Artificial Intelligence Thematic ETF',\n",
       "  'nasdaq'),\n",
       " ('DOOR', 'Masonite International Corporation', 'nyse'),\n",
       " ('VFL', 'Delaware Investments Florida Insured Municipal Income Fund', 'amex'),\n",
       " ('ARRS', 'ARRIS International plc', 'nasdaq'),\n",
       " ('IBOC', 'International Bancshares Corporation', 'nasdaq'),\n",
       " ('PSCT',\n",
       "  'PowerShares S&P SmallCap Information Technology Portfolio',\n",
       "  'nasdaq'),\n",
       " ('NAII', 'Natural Alternatives International, Inc.', 'nasdaq'),\n",
       " ('SPNS', 'Sapiens International Corporation N.V.', 'nasdaq'),\n",
       " ('WFT', 'Weatherford International plc', 'nyse'),\n",
       " ('ICFI', 'ICF International, Inc.', 'nasdaq'),\n",
       " ('CF', 'CF Industries Holdings, Inc.', 'nyse'),\n",
       " ('FPXI', 'First Trust International IPO ETF', 'nasdaq'),\n",
       " ('TASR', 'TASER International, Inc.', 'nasdaq'),\n",
       " ('FSI', 'Flexible Solutions International Inc.', 'amex'),\n",
       " ('RDI', 'Reading International Inc', 'nasdaq'),\n",
       " ('BAX', 'Baxter International Inc.', 'nyse'),\n",
       " ('IFF', 'Internationa Flavors & Fragrances, Inc.', 'nyse'),\n",
       " ('NTLA', 'Intellia Therapeutics, Inc.', 'nasdaq'),\n",
       " ('PM', 'Philip Morris International Inc', 'nyse'),\n",
       " ('BDSI', 'BioDelivery Sciences International, Inc.', 'nasdaq'),\n",
       " ('TRTN', 'Triton International Limited', 'nyse'),\n",
       " ('MERC', 'Mercer International Inc.', 'nasdaq'),\n",
       " ('ATKR', 'Atkore International Group Inc.', 'nyse'),\n",
       " ('MDSY', 'ModSys International Ltd.', 'nasdaq'),\n",
       " ('ISRG', 'Intuitive Surgical, Inc.', 'nasdaq'),\n",
       " ('TIK', 'Tel-Instrument Electronics Corp.', 'amex'),\n",
       " ('IHT', 'InnSuites Hospitality Trust', 'amex'),\n",
       " ('ZX', 'China Zenix Auto International Limited', 'nyse'),\n",
       " ('PSIX', 'Power Solutions International, Inc.', 'nasdaq'),\n",
       " ('TWI', 'Titan International, Inc.', 'nyse'),\n",
       " ('MGA', 'Magna International, Inc.', 'nyse'),\n",
       " ('LIQT', 'LiqTech International, Inc.', 'amex'),\n",
       " ('HYZD', 'WisdomTree Interest Rate Hedged High Yield Bond Fund', 'nasdaq'),\n",
       " ('CORI', 'Corium International, Inc.', 'nasdaq'),\n",
       " ('IIIN', 'Insteel Industries, Inc.', 'nasdaq'),\n",
       " ('NID', 'Nuveen Intermediate Duration Municipal Term Fund', 'nyse'),\n",
       " ('CIL', 'Victory CEMP International Volatility Wtd Index ETF', 'nasdaq'),\n",
       " ('VKI', 'Invesco Advantage Municipal Income Trust II', 'amex'),\n",
       " ('IGT', 'International Game Technology', 'nyse'),\n",
       " ('NBW',\n",
       "  'Neuberger Berman California Intermediate Municipal Fund Inc.',\n",
       "  'amex'),\n",
       " ('OIS', 'Oil States International, Inc.', 'nyse'),\n",
       " ('KFY', 'Korn/Ferry International', 'nyse'),\n",
       " ('PCOM', 'Points International, Ltd.', 'nasdaq'),\n",
       " ('ENDP', 'Endo International plc', 'nasdaq'),\n",
       " ('MTD', 'Mettler-Toledo International, Inc.', 'nyse'),\n",
       " ('IDTI', 'Integrated Device Technology, Inc.', 'nasdaq'),\n",
       " ('MDR', 'McDermott International, Inc.', 'nyse'),\n",
       " ('NBO', 'Neuberger Berman New York Intermediate Municipal Fund Inc.', 'amex'),\n",
       " ('BNY',\n",
       "  'BlackRock New York Investment Quality Municipal Trust Inc. (Th',\n",
       "  'nyse'),\n",
       " ('IFV', 'First Trust Dorsey Wright International Focus 5 ETF', 'nasdaq'),\n",
       " ('TRT', 'Trio-Tech International', 'amex'),\n",
       " ('AIT', 'Applied Industrial Technologies, Inc.', 'nyse'),\n",
       " ('SODA', 'SodaStream International Ltd.', 'nasdaq'),\n",
       " ('DGII', 'Digi International Inc.', 'nasdaq'),\n",
       " ('PZZA', \"Papa John's International, Inc.\", 'nasdaq'),\n",
       " ('VIGI', 'Vanguard International Dividend Appreciation ETF', 'nasdaq'),\n",
       " ('I', 'Intelsat S.A.', 'nyse'),\n",
       " ('PRXL', 'PAREXEL International Corporation', 'nasdaq'),\n",
       " ('CIGI', 'Colliers International Group Inc. ', 'nasdaq'),\n",
       " ('VOXX', 'VOXX International Corporation', 'nasdaq'),\n",
       " ('IART', 'Integra LifeSciences Holdings Corporation', 'nasdaq'),\n",
       " ('BNSO', 'Bonso Electronics International, Inc.', 'nasdaq'),\n",
       " ('PNQI', 'PowerShares Nasdaq Internet Portfolio', 'nasdaq'),\n",
       " ('IDE', 'Voya Infrastructure, Industrials and Materials Fund', 'nyse'),\n",
       " ('HPJ', 'Highpower International Inc', 'nasdaq'),\n",
       " ('IOT', 'Income Opportunity Realty Investors, Inc.', 'amex'),\n",
       " ('SHI', 'SINOPEC Shangai Petrochemical Company, Ltd.', 'nyse'),\n",
       " ('CIR', 'CIRCOR International, Inc.', 'nyse'),\n",
       " ('SMI', 'Semiconductor  Manufacturing International Corporation', 'nyse'),\n",
       " ('FI', \"Frank's International N.V.\", 'nyse'),\n",
       " ('MNTX', 'Manitex International, Inc.', 'nasdaq'),\n",
       " ('BAF', 'BlackRock Income Investment Quality Trust', 'nyse'),\n",
       " ('EROS', 'Eros International PLC', 'nyse'),\n",
       " ('ITCI', 'Intra-Cellular Therapies Inc.', 'nasdaq'),\n",
       " ('AIN', 'Albany International Corporation', 'nyse'),\n",
       " ('OII', 'Oceaneering International, Inc.', 'nyse'),\n",
       " ('IVR^A', 'Invesco Mortgage Capital Inc.', 'nyse'),\n",
       " ('VTN', 'Invesco Trust  for Investment Grade New York Municipal', 'nyse'),\n",
       " ('IXUS', 'iShares Core MSCI Total International Stock ETF', 'nasdaq'),\n",
       " ('TPX', 'Tempur Sealy International, Inc.', 'nyse'),\n",
       " ('IDLB',\n",
       "  'PowerShares FTSE International Low Beta Equal Weight Portfolio',\n",
       "  'nasdaq'),\n",
       " ('IMI', 'Intermolecular, Inc.', 'nasdaq'),\n",
       " ('TORM          ', 'TOR Minerals International Inc', 'nasdaq'),\n",
       " ('RELV', \"Reliv' International, Inc.\", 'nasdaq'),\n",
       " ('PRN', 'PowerShares DWA Industrials Momentum Portfolio', 'nasdaq'),\n",
       " ('MGI', 'Moneygram International, Inc.', 'nasdaq'),\n",
       " ('SWM', 'Schweitzer-Mauduit International, Inc.', 'nyse'),\n",
       " ('VYMI', 'Vanguard International High Dividend Yield ETF', 'nasdaq'),\n",
       " ('SUP', 'Superior Industries International, Inc.', 'nyse'),\n",
       " ('SXI', 'Standex International Corporation', 'nyse'),\n",
       " ('IBM', 'International Business Machines Corporation', 'nyse'),\n",
       " ('VXUS', 'Vanguard Total International Stock ETF', 'nasdaq'),\n",
       " ('CNIT', 'China Information Technology, Inc.', 'nasdaq'),\n",
       " ('RHI', 'Robert Half International Inc.', 'nyse'),\n",
       " ('FR', 'First Industrial Realty Trust, Inc.', 'nyse'),\n",
       " ('NXC', 'Nuveen Insured California Select Tax-Free Income Portfolio', 'nyse'),\n",
       " ('INS', 'Intelligent Systems Corporation', 'amex'),\n",
       " ('IGOV', 'iShares S&P/Citigroup International Treasury Bond Fund', 'nasdaq'),\n",
       " ('CAI', 'CAI International, Inc.', 'nyse'),\n",
       " ('IRET', 'Investors Real Estate Trust', 'nyse'),\n",
       " ('IIPR', 'Innovative Industrial Properties, Inc.', 'nyse'),\n",
       " ('GPIC', 'Gaming Partners International Corporation', 'nasdaq'),\n",
       " ('MGU', 'Macquarie Global Infrastructure Total Return Fund Inc.', 'nyse'),\n",
       " ('IPKW', 'PowerShares International BuyBack Achievers Portfolio', 'nasdaq'),\n",
       " ('INSW', 'International Seaways, Inc.', 'nyse'),\n",
       " ('IBP', 'Installed Building Products, Inc.', 'nyse'),\n",
       " ('SREV', 'ServiceSource International, Inc.', 'nasdaq'),\n",
       " ('EAT', 'Brinker International, Inc.', 'nyse'),\n",
       " ('HASI', 'Hannon Armstrong Sustainable Infrastructure Capital, Inc.', 'nyse'),\n",
       " ('IOC', 'InterOil Corporation', 'nyse'),\n",
       " ('ENVA', 'Enova International, Inc.', 'nyse'),\n",
       " ('JHX', 'James Hardie Industries plc.', 'nyse'),\n",
       " ('AIG', 'American International Group, Inc.', 'nyse'),\n",
       " ('CIE', 'Cobalt International Energy, Inc.', 'nyse'),\n",
       " ('NTIC', 'Northern Technologies International Corporation', 'nasdaq'),\n",
       " ('CXH', 'Colonial Investment Grade Municipal Trust', 'nyse'),\n",
       " ('OXFD', 'Oxford Immunotec Global PLC', 'nasdaq'),\n",
       " ('HNP', 'Huaneng Power International, Inc.', 'nyse'),\n",
       " ('MZF', 'Managed Duration Investment Grade Municipal Fund', 'nyse'),\n",
       " ('PID', 'PowerShares International Dividend Achievers Portfolio', 'nasdaq'),\n",
       " ('CCIH', 'ChinaCache International Holdings Ltd.', 'nasdaq'),\n",
       " ('INFU', 'InfuSystems Holdings, Inc.', 'amex'),\n",
       " ('MFT', 'Blackrock MuniYield Investment QualityFund', 'nyse'),\n",
       " ('BNDX', 'Vanguard Total International Bond ETF', 'nasdaq'),\n",
       " ('VRIG', 'PowerShares Variable Rate Investment Grade Portfolio', 'nasdaq'),\n",
       " ('HAR', 'Harman International Industries, Incorporated', 'nyse'),\n",
       " ('NBH', 'Neuberger Berman Intermediate Municipal Fund Inc.', 'amex'),\n",
       " ('NUTR', 'Nutraceutical International Corporation', 'nasdaq'),\n",
       " ('INFI', 'Infinity Pharmaceuticals, Inc.', 'nasdaq'),\n",
       " ('AOI', 'Alliance One International, Inc.', 'nyse'),\n",
       " ('EXPD', 'Expeditors International of Washington, Inc.', 'nasdaq'),\n",
       " ('IDN', 'Intellicheck Mobilisa, Inc.', 'amex'),\n",
       " ('CRAI', 'CRA International,Inc.', 'nasdaq'),\n",
       " ('LINK', 'Interlink Electronics, Inc.', 'nasdaq'),\n",
       " ('OIIM', 'O2Micro International Limited', 'nasdaq'),\n",
       " ('IPG', 'Interpublic Group of Companies, Inc. (The)', 'nyse'),\n",
       " ('EIGI', 'Endurance International Group Holdings, Inc.', 'nasdaq'),\n",
       " ('VDSI', 'VASCO Data Security International, Inc.', 'nasdaq'),\n",
       " ('HIL', 'Hill International, Inc.', 'nyse'),\n",
       " ('CLUB', 'Town Sports International Holdings, Inc.', 'nasdaq'),\n",
       " ('CCI', 'Crown Castle International Corporation', 'nyse'),\n",
       " ('JMEI', 'Jumei International Holding Limited', 'nyse'),\n",
       " ('MANT', 'ManTech International Corporation', 'nasdaq'),\n",
       " ('VCF', 'Delaware Investments Colorado Municipal Income Fund, Inc', 'amex'),\n",
       " ('RFDI',\n",
       "  'First Trust RiverFront Dynamic Developed International ETF',\n",
       "  'nasdaq'),\n",
       " ('IID', 'Voya International High Dividend Equity Income Fund', 'nyse'),\n",
       " ('ITG', 'Investment Technology Group, Inc.', 'nyse'),\n",
       " ('MGM', 'MGM Resorts International', 'nyse'),\n",
       " ('CACI', 'CACI International, Inc.', 'nyse'),\n",
       " ('IDCC', 'InterDigital, Inc.', 'nasdaq'),\n",
       " ('KBAL', 'Kimball International, Inc.', 'nasdaq'),\n",
       " ('ISCA', 'International Speedway Corporation', 'nasdaq'),\n",
       " ('ITEK', 'Inotek Pharmaceuticals Corporation', 'nasdaq'),\n",
       " ('MDLZ', 'Mondelez International, Inc.', 'nasdaq'),\n",
       " ('TEDU', 'Tarena International, Inc.', 'nasdaq'),\n",
       " ('MPSX', 'Multi Packaging Solutions International Limited', 'nyse'),\n",
       " ('THM', 'International Tower Hill Mines Ltd', 'amex'),\n",
       " ('CTRP', 'Ctrip.com International, Ltd.', 'nasdaq'),\n",
       " ('AGII', 'Argo Group International Holdings, Ltd.', 'nasdaq'),\n",
       " ('SEAC', 'SeaChange International, Inc.', 'nasdaq'),\n",
       " ('HON', 'Honeywell International Inc.', 'nyse'),\n",
       " ('INVT', 'Inventergy Global, Inc.', 'nasdaq'),\n",
       " ('YDIV',\n",
       "  'First Trust International Multi-Asset Diversified Income Index',\n",
       "  'nasdaq'),\n",
       " ('VSH', 'Vishay Intertechnology, Inc.', 'nyse'),\n",
       " ('VGM', 'Invesco Trust for Investment Grade Municipals', 'nyse'),\n",
       " ('MAR', 'Marriott International', 'nasdaq'),\n",
       " ('CLNT', 'Cleantech Solutions International, Inc.', 'nasdaq'),\n",
       " ('NAV', 'Navistar International Corporation', 'nyse'),\n",
       " ('VMM',\n",
       "  'Delaware Investments Minnesota Municipal Income Fund II, Inc.',\n",
       "  'amex'),\n",
       " ('SYUT', 'Synutra International, Inc.', 'nasdaq'),\n",
       " ('IPCC', 'Infinity Property and Casualty Corporation', 'nasdaq'),\n",
       " ('SAIC', 'SCIENCE APPLICATIONS INTERNATIONAL CORPORATION', 'nyse'),\n",
       " ('IVR', 'INVESCO MORTGAGE CAPITAL INC', 'nyse'),\n",
       " ('BGY', 'BLACKROCK INTERNATIONAL, LTD.', 'nyse'),\n",
       " ('SBS',\n",
       "  'Companhia de saneamento Basico Do Estado De Sao Paulo - Sabesp',\n",
       "  'nyse'),\n",
       " ('DTLA^', 'Brookfield DTLA Inc.', 'nyse'),\n",
       " ('CBD', 'Companhia Brasileira de Distribuicao', 'nyse'),\n",
       " ('BGH', 'Babson Global Short Duration High Yield Fund', 'nyse'),\n",
       " ('SWJ', 'Stanley Black & Decker, Inc.', 'nyse'),\n",
       " ('ADRA', 'BLDRS Asia 50 ADR Index Fund', 'nasdaq'),\n",
       " ('BDSI', 'BioDelivery Sciences International, Inc.', 'nasdaq'),\n",
       " ('BDJ', 'Blackrock Enhanced Equity Dividend Trust', 'nyse'),\n",
       " ('GSBD', 'Goldman Sachs BDC, Inc.', 'nyse'),\n",
       " ('BDX', 'Becton, Dickinson and Company', 'nyse'),\n",
       " ('LND', 'Brasilagro Cia Brasileira De Propriedades Agricolas', 'nyse'),\n",
       " ('MNE', 'Blackrock Muni New York Intermediate Duration Fund Inc', 'nyse'),\n",
       " ('BDE', 'Black Diamond, Inc.', 'nasdaq'),\n",
       " ('MUI', 'Blackrock Muni Intermediate Duration Fund Inc', 'nyse'),\n",
       " ('BLIN          ', 'Bridgeline Digital, Inc.', 'nasdaq'),\n",
       " ('TPVG', 'TriplePoint Venture Growth BDC Corp.', 'nyse'),\n",
       " ('ADRD', 'BLDRS Developed Markets 100 ADR Index Fund', 'nasdaq'),\n",
       " ('ADRU', 'BLDRS Europe 100 ADR Index Fund', 'nasdaq'),\n",
       " ('DSU', 'Blackrock Debt Strategies Fund, Inc.', 'nyse'),\n",
       " ('FBZ', 'First Trust Brazil AlphaDEX Fund', 'nasdaq'),\n",
       " ('KBWD', 'PowerShares KBW High Dividend Yield Financial Portfolio', 'nasdaq'),\n",
       " ('BCH', 'Banco De Chile', 'nyse'),\n",
       " ('BHL', 'Blackrock Defined Opportunity Credit Trust', 'nyse'),\n",
       " ('ADRE', 'BLDRS Emerging Markets 50 ADR Index Fund', 'nasdaq'),\n",
       " ('AGND',\n",
       "  'WisdomTree Barclays Negative Duration U.S. Aggregate Bond Fund',\n",
       "  'nasdaq'),\n",
       " ('MB', 'MINDBODY, Inc.', 'nasdaq'),\n",
       " ('BGY', 'BLACKROCK INTERNATIONAL, LTD.', 'nyse'),\n",
       " ('ABMD', 'ABIOMED, Inc.', 'nasdaq'),\n",
       " ('GBDC', 'Golub Capital BDC, Inc.', 'nasdaq'),\n",
       " ('SBS',\n",
       "  'Companhia de saneamento Basico Do Estado De Sao Paulo - Sabesp',\n",
       "  'nyse'),\n",
       " ('DTLA^', 'Brookfield DTLA Inc.', 'nyse'),\n",
       " ('CBD', 'Companhia Brasileira de Distribuicao', 'nyse'),\n",
       " ('BGH', 'Babson Global Short Duration High Yield Fund', 'nyse'),\n",
       " ('SWJ', 'Stanley Black & Decker, Inc.', 'nyse'),\n",
       " ('ADRA', 'BLDRS Asia 50 ADR Index Fund', 'nasdaq'),\n",
       " ('BDSI', 'BioDelivery Sciences International, Inc.', 'nasdaq'),\n",
       " ('BDJ', 'Blackrock Enhanced Equity Dividend Trust', 'nyse'),\n",
       " ('GSBD', 'Goldman Sachs BDC, Inc.', 'nyse'),\n",
       " ('BDX', 'Becton, Dickinson and Company', 'nyse'),\n",
       " ('LND', 'Brasilagro Cia Brasileira De Propriedades Agricolas', 'nyse'),\n",
       " ('MNE', 'Blackrock Muni New York Intermediate Duration Fund Inc', 'nyse'),\n",
       " ('BDE', 'Black Diamond, Inc.', 'nasdaq'),\n",
       " ('MUI', 'Blackrock Muni Intermediate Duration Fund Inc', 'nyse'),\n",
       " ('BLIN          ', 'Bridgeline Digital, Inc.', 'nasdaq'),\n",
       " ('TPVG', 'TriplePoint Venture Growth BDC Corp.', 'nyse'),\n",
       " ('ADRD', 'BLDRS Developed Markets 100 ADR Index Fund', 'nasdaq'),\n",
       " ('ADRU', 'BLDRS Europe 100 ADR Index Fund', 'nasdaq'),\n",
       " ('DSU', 'Blackrock Debt Strategies Fund, Inc.', 'nyse'),\n",
       " ('FBZ', 'First Trust Brazil AlphaDEX Fund', 'nasdaq'),\n",
       " ('KBWD', 'PowerShares KBW High Dividend Yield Financial Portfolio', 'nasdaq'),\n",
       " ('BCH', 'Banco De Chile', 'nyse'),\n",
       " ('BHL', 'Blackrock Defined Opportunity Credit Trust', 'nyse'),\n",
       " ('ADRE', 'BLDRS Emerging Markets 50 ADR Index Fund', 'nasdaq'),\n",
       " ('AGND',\n",
       "  'WisdomTree Barclays Negative Duration U.S. Aggregate Bond Fund',\n",
       "  'nasdaq'),\n",
       " ('MB', 'MINDBODY, Inc.', 'nasdaq'),\n",
       " ('BGY', 'BLACKROCK INTERNATIONAL, LTD.', 'nyse'),\n",
       " ('ABMD', 'ABIOMED, Inc.', 'nasdaq'),\n",
       " ('GBDC', 'Golub Capital BDC, Inc.', 'nasdaq')]"
      ]
     },
     "execution_count": 104,
     "metadata": {},
     "output_type": "execute_result"
    }
   ],
   "source": [
    "w.lookup_ticker(['Intel', 'BD'])"
   ]
  },
  {
   "cell_type": "code",
   "execution_count": 115,
   "metadata": {
    "collapsed": false
   },
   "outputs": [
    {
     "data": {
      "text/plain": [
       "[('n/a', 'Intel Corporation')]"
      ]
     },
     "execution_count": 115,
     "metadata": {},
     "output_type": "execute_result"
    }
   ],
   "source": [
    "x.ipo_year('Intel Corporation')"
   ]
  },
  {
   "cell_type": "code",
   "execution_count": 122,
   "metadata": {
    "collapsed": false
   },
   "outputs": [
    {
     "data": {
      "text/plain": [
       "[('2001', 'BHK'), ('2006', 'BTZ')]"
      ]
     },
     "execution_count": 122,
     "metadata": {},
     "output_type": "execute_result"
    }
   ],
   "source": [
    "z.ipo_year(['Blackrock Core Bond Trust', 'BlackRock Credit Allocation Income Trust'])"
   ]
  },
  {
   "cell_type": "code",
   "execution_count": null,
   "metadata": {
    "collapsed": true
   },
   "outputs": [],
   "source": []
  }
 ],
 "metadata": {
  "anaconda-cloud": {},
  "kernelspec": {
   "display_name": "Python [conda root]",
   "language": "python",
   "name": "conda-root-py"
  },
  "language_info": {
   "codemirror_mode": {
    "name": "ipython",
    "version": 3
   },
   "file_extension": ".py",
   "mimetype": "text/x-python",
   "name": "python",
   "nbconvert_exporter": "python",
   "pygments_lexer": "ipython3",
   "version": "3.5.2"
  }
 },
 "nbformat": 4,
 "nbformat_minor": 1
}
