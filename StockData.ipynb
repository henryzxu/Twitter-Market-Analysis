{
 "cells": [
  {
   "cell_type": "code",
   "execution_count": 1,
   "metadata": {
    "collapsed": false
   },
   "outputs": [],
   "source": [
    "import stockutils\n",
    "import pandas_datareader.data as web, re, sqlite3, datetime"
   ]
  },
  {
   "cell_type": "code",
   "execution_count": 2,
   "metadata": {
    "collapsed": false
   },
   "outputs": [],
   "source": [
    "class StockData:\n",
    "    sql_path = 'data/completecompanylist.sql'\n",
    "    sql_table_name = 'companytable'\n",
    "    def __init__(self, se = None, update = False):\n",
    "        self.company_table = stockutils.company_table(se = se, update = update)\n",
    "        self.se = se\n",
    "   \n",
    "    def lookup_ticker(self, company_name, sql = True, lookup = False):\n",
    "        \"\"\"Converts company_name to ticker symbol. Returns a tuple of (symbol, company name) \n",
    "        or returns an empty table if company or ticker is not found.\"\"\"\n",
    "        if isinstance(company_name,str):\n",
    "            company_name = [company_name]\n",
    "        result_table, conn = [], None \n",
    "        if not sql:\n",
    "            for name in company_name:\n",
    "                for name in [name, name.upper()]:\n",
    "                    query = r\".*\" + r\".*\".join(list(name)) + r\".*\"\n",
    "                    for row in self.company_table.keys():\n",
    "                        match = re.search(query,row)\n",
    "                        if match:\n",
    "                            ticker = self.lookup_ticker(match.group(), lookup = True)\n",
    "                            if ticker:\n",
    "                                result_table.extend(ticker)\n",
    "        else:\n",
    "            conn = sqlite3.connect(self.sql_path)\n",
    "            c = conn.cursor()\n",
    "            for name in company_name:\n",
    "                if self.se: \n",
    "                    query = (name, self.se,)\n",
    "                    rows = c.execute('SELECT symbol,name,se FROM ' + self.sql_table_name + ' WHERE name LIKE ? AND se = ?;', query).fetchall()\n",
    "                else:\n",
    "                    query = (name,)\n",
    "                    rows = c.execute('SELECT symbol,name,se FROM ' + self.sql_table_name + ' WHERE name LIKE ?;', query).fetchall()\n",
    "                if rows:\n",
    "                    result_table.extend(rows)\n",
    "                else:\n",
    "                    if not lookup:\n",
    "                        print('Switching to regular expressions for ' + name + ' lookup.')\n",
    "                        found = self.lookup_ticker(name, sql = False)\n",
    "                        if found:\n",
    "                            for item in found:\n",
    "                                result_table.append(item)\n",
    "                        else:\n",
    "                            result_table.append(('N/A', name))\n",
    "            conn.close()\n",
    "        return result_table\n",
    "        \n",
    "    def ipo_year(self,company_name, sql = True):\n",
    "        if isinstance(company_name,str):\n",
    "            company_name = [company_name]\n",
    "        list_years = []\n",
    "        conn = sqlite3.connect(self.sql_path)\n",
    "        c = conn.cursor()\n",
    "        for name in company_name:\n",
    "            query = (name, )\n",
    "            list_years.extend(c.execute('SELECT ipoyear, symbol FROM ' + self.sql_table_name + ' WHERE name LIKE ?;', query).fetchall())\n",
    "        return list_years\n",
    "            \n",
    "#       def stock_price(self, ticker, date):\n",
    "            \n",
    "        \n",
    "        "
   ]
  },
  {
   "cell_type": "code",
   "execution_count": 3,
   "metadata": {
    "collapsed": false,
    "scrolled": true
   },
   "outputs": [],
   "source": [
    "#update\n",
    "w = StockData(update = True)"
   ]
  },
  {
   "cell_type": "code",
   "execution_count": 4,
   "metadata": {
    "collapsed": false
   },
   "outputs": [],
   "source": [
    "w = StockData()"
   ]
  },
  {
   "cell_type": "code",
   "execution_count": 5,
   "metadata": {
    "collapsed": false
   },
   "outputs": [],
   "source": [
    "x = StockData('nasdaq')"
   ]
  },
  {
   "cell_type": "code",
   "execution_count": 6,
   "metadata": {
    "collapsed": true
   },
   "outputs": [],
   "source": [
    "y = StockData('amex')"
   ]
  },
  {
   "cell_type": "code",
   "execution_count": 7,
   "metadata": {
    "collapsed": false
   },
   "outputs": [],
   "source": [
    "z = StockData('nyse')"
   ]
  },
  {
   "cell_type": "code",
   "execution_count": 8,
   "metadata": {
    "collapsed": false
   },
   "outputs": [
    {
     "data": {
      "text/plain": [
       "[('NVDA', 'NVIDIA Corporation', 'nasdaq')]"
      ]
     },
     "execution_count": 8,
     "metadata": {},
     "output_type": "execute_result"
    }
   ],
   "source": [
    "x.lookup_ticker('NVIDIA Corporation')"
   ]
  },
  {
   "cell_type": "code",
   "execution_count": 9,
   "metadata": {
    "collapsed": false
   },
   "outputs": [
    {
     "name": "stdout",
     "output_type": "stream",
     "text": [
      "Switching to regular expressions for Nvidia lookup.\n",
      "Switching to regular expressions for Apple lookup.\n",
      "Switching to regular expressions for Microsoft lookup.\n",
      "Switching to regular expressions for Becton Dickinson lookup.\n"
     ]
    },
    {
     "data": {
      "text/plain": [
       "[('INTC', 'Intel Corporation', 'nasdaq'),\n",
       " ('NVDA', 'NVIDIA Corporation', 'nasdaq'),\n",
       " ('ARCI', 'Appliance Recycling Centers of America, Inc.', 'nasdaq'),\n",
       " ('AAOI', 'Applied Optoelectronics, Inc.', 'nasdaq'),\n",
       " ('AMCC', 'Applied Micro Circuits Corporation', 'nasdaq'),\n",
       " ('APDN', 'Applied DNA Sciences Inc', 'nasdaq'),\n",
       " ('AGTC', 'Applied Genetic Technologies Corporation', 'nasdaq'),\n",
       " ('AMAT', 'Applied Materials, Inc.', 'nasdaq'),\n",
       " ('AAPL', 'Apple Inc.', 'nasdaq'),\n",
       " ('MSFT', 'Microsoft Corporation', 'nasdaq'),\n",
       " ('N/A', 'Becton Dickinson')]"
      ]
     },
     "execution_count": 9,
     "metadata": {},
     "output_type": "execute_result"
    }
   ],
   "source": [
    "x.lookup_ticker(['Intel Corporation', 'Nvidia', 'Apple', 'Microsoft', 'Becton Dickinson'])"
   ]
  },
  {
   "cell_type": "code",
   "execution_count": 10,
   "metadata": {
    "collapsed": false
   },
   "outputs": [
    {
     "name": "stdout",
     "output_type": "stream",
     "text": [
      "Switching to regular expressions for Dick's lookup.\n"
     ]
    },
    {
     "data": {
      "text/plain": [
       "[('DKS', \"Dick's Sporting Goods Inc\", 'nyse')]"
      ]
     },
     "execution_count": 10,
     "metadata": {},
     "output_type": "execute_result"
    }
   ],
   "source": [
    "z.lookup_ticker(\"Dick's\")"
   ]
  },
  {
   "cell_type": "code",
   "execution_count": 11,
   "metadata": {
    "collapsed": false
   },
   "outputs": [
    {
     "name": "stdout",
     "output_type": "stream",
     "text": [
      "Switching to regular expressions for Becton lookup.\n"
     ]
    },
    {
     "data": {
      "text/plain": [
       "[('BGE^B', 'Baltimore Gas & Electric Company', 'nyse'),\n",
       " ('BIT', 'BlackRock Multi-Sector Income Trust', 'nyse'),\n",
       " ('INF', 'Brookfield Global Listed Infrastructure Income Fund', 'nyse'),\n",
       " ('BPI', 'Bridgepoint Education, Inc.', 'nyse'),\n",
       " ('WAB', 'Westinghouse Air Brake Technologies Corporation', 'nyse'),\n",
       " ('BAC', 'Bank of America Corporation', 'nyse'),\n",
       " ('BSX', 'Boston Scientific Corporation', 'nyse'),\n",
       " ('BNED', 'Barnes & Noble Education, Inc', 'nyse'),\n",
       " ('IBM', 'International Business Machines Corporation', 'nyse'),\n",
       " ('BHE', 'Benchmark Electronics, Inc.', 'nyse'),\n",
       " ('BR', 'Broadridge Financial Solutions, Inc.', 'nyse'),\n",
       " ('JBT', 'John Bean Technologies Corporation', 'nyse'),\n",
       " ('BTZ', 'BlackRock Credit Allocation Income Trust', 'nyse'),\n",
       " ('BDX', 'Becton, Dickinson and Company', 'nyse')]"
      ]
     },
     "execution_count": 11,
     "metadata": {},
     "output_type": "execute_result"
    }
   ],
   "source": [
    "z.lookup_ticker('Becton')"
   ]
  },
  {
   "cell_type": "code",
   "execution_count": 12,
   "metadata": {
    "collapsed": false
   },
   "outputs": [
    {
     "name": "stdout",
     "output_type": "stream",
     "text": [
      "Switching to regular expressions for Intel lookup.\n",
      "Switching to regular expressions for BD lookup.\n"
     ]
    },
    {
     "data": {
      "text/plain": [
       "[('SHI', 'SINOPEC Shangai Petrochemical Company, Ltd.', 'nyse'),\n",
       " ('CAI', 'CAI International, Inc.', 'nyse'),\n",
       " ('IPG', 'Interpublic Group of Companies, Inc. (The)', 'nyse'),\n",
       " ('GPIC', 'Gaming Partners International Corporation', 'nasdaq'),\n",
       " ('ICFI', 'ICF International, Inc.', 'nasdaq'),\n",
       " ('BAF', 'BlackRock Income Investment Quality Trust', 'nyse'),\n",
       " ('HIL', 'Hill International, Inc.', 'nyse'),\n",
       " ('VKI', 'Invesco Advantage Municipal Income Trust II', 'amex'),\n",
       " ('NUTR', 'Nutraceutical International Corporation', 'nasdaq'),\n",
       " ('ATNI', 'ATN International, Inc.', 'nasdaq'),\n",
       " ('IPKW', 'PowerShares International BuyBack Achievers Portfolio', 'nasdaq'),\n",
       " ('CHH', 'Choice Hotels International, Inc.', 'nyse'),\n",
       " ('WFT', 'Weatherford International plc', 'nyse'),\n",
       " ('REXR', 'Rexford Industrial Realty, Inc.', 'nyse'),\n",
       " ('VFL', 'Delaware Investments Florida Insured Municipal Income Fund', 'amex'),\n",
       " ('GOL', 'Gol Linhas Aereas Inteligentes S.A.', 'nyse'),\n",
       " ('PNQI', 'PowerShares Nasdaq Internet Portfolio', 'nasdaq'),\n",
       " ('IOC', 'InterOil Corporation', 'nyse'),\n",
       " ('LINK', 'Interlink Electronics, Inc.', 'nasdaq'),\n",
       " ('TOWR', 'Tower International, Inc.', 'nyse'),\n",
       " ('BDSI', 'BioDelivery Sciences International, Inc.', 'nasdaq'),\n",
       " ('MTD', 'Mettler-Toledo International, Inc.', 'nyse'),\n",
       " ('CXH', 'Colonial Investment Grade Municipal Trust', 'nyse'),\n",
       " ('CCIH', 'ChinaCache International Holdings Ltd.', 'nasdaq'),\n",
       " ('CSGS', 'CSG Systems International, Inc.', 'nasdaq'),\n",
       " ('IIPR', 'Innovative Industrial Properties, Inc.', 'nyse'),\n",
       " ('IDE', 'Voya Infrastructure, Industrials and Materials Fund', 'nyse'),\n",
       " ('SWM', 'Schweitzer-Mauduit International, Inc.', 'nyse'),\n",
       " ('FSNN', 'Fusion Telecommunications International, Inc.', 'nasdaq'),\n",
       " ('IQNT', 'Inteliquent, Inc.', 'nasdaq'),\n",
       " ('HSII', 'Heidrick & Struggles International, Inc.', 'nasdaq'),\n",
       " ('NSAT', 'Norsat International Inc.', 'amex'),\n",
       " ('VIGI', 'Vanguard International Dividend Appreciation ETF', 'nasdaq'),\n",
       " ('MNTX', 'Manitex International, Inc.', 'nasdaq'),\n",
       " ('CIR', 'CIRCOR International, Inc.', 'nyse'),\n",
       " ('MAR', 'Marriott International', 'nasdaq'),\n",
       " ('CID',\n",
       "  'Victory CEMP International High Div Volatility Wtd Index ETF',\n",
       "  'nasdaq'),\n",
       " ('VOXX', 'VOXX International Corporation', 'nasdaq'),\n",
       " ('CACI', 'CACI International, Inc.', 'nyse'),\n",
       " ('KBAL', 'Kimball International, Inc.', 'nasdaq'),\n",
       " ('MANT', 'ManTech International Corporation', 'nasdaq'),\n",
       " ('HAR', 'Harman International Industries, Incorporated', 'nyse'),\n",
       " ('ICPT', 'Intercept Pharmaceuticals, Inc.', 'nasdaq'),\n",
       " ('VTN', 'Invesco Trust  for Investment Grade New York Municipal', 'nyse'),\n",
       " ('PM', 'Philip Morris International Inc', 'nyse'),\n",
       " ('NAV', 'Navistar International Corporation', 'nyse'),\n",
       " ('IDLB',\n",
       "  'PowerShares FTSE International Low Beta Equal Weight Portfolio',\n",
       "  'nasdaq'),\n",
       " ('NAII', 'Natural Alternatives International, Inc.', 'nasdaq'),\n",
       " ('RPM', 'RPM International Inc.', 'nyse'),\n",
       " ('BNSO', 'Bonso Electronics International, Inc.', 'nasdaq'),\n",
       " ('DGII', 'Digi International Inc.', 'nasdaq'),\n",
       " ('AEL', 'American Equity Investment Life Holding Company', 'nyse'),\n",
       " ('QSR', 'Restaurant Brands International Inc.', 'nyse'),\n",
       " ('VYMI', 'Vanguard International High Dividend Yield ETF', 'nasdaq'),\n",
       " ('HASI', 'Hannon Armstrong Sustainable Infrastructure Capital, Inc.', 'nyse'),\n",
       " ('IART', 'Integra LifeSciences Holdings Corporation', 'nasdaq'),\n",
       " ('BAX', 'Baxter International Inc.', 'nyse'),\n",
       " ('MDSY', 'ModSys International Ltd.', 'nasdaq'),\n",
       " ('VVPR', 'VivoPower International PLC', 'nasdaq'),\n",
       " ('CYD', 'China Yuchai International Limited', 'nyse'),\n",
       " ('EVK', 'Ever-Glory International Group, Inc.', 'nasdaq'),\n",
       " ('CTRP', 'Ctrip.com International, Ltd.', 'nasdaq'),\n",
       " ('MZF', 'Managed Duration Investment Grade Municipal Fund', 'nyse'),\n",
       " ('HAYN', 'Haynes International, Inc.', 'nasdaq'),\n",
       " ('NBW',\n",
       "  'Neuberger Berman California Intermediate Municipal Fund Inc.',\n",
       "  'amex'),\n",
       " ('ZX', 'China Zenix Auto International Limited', 'nyse'),\n",
       " ('INSW', 'International Seaways, Inc.', 'nyse'),\n",
       " ('YIN', 'Yintech Investment Holdings Limited', 'nasdaq'),\n",
       " ('BKN', 'BlackRock Investment Quality Municipal Trust Inc. (The)', 'nyse'),\n",
       " ('EIGI', 'Endurance International Group Holdings, Inc.', 'nasdaq'),\n",
       " ('OFIX', 'Orthofix International N.V.', 'nasdaq'),\n",
       " ('I', 'Intelsat S.A.', 'nyse'),\n",
       " ('AIG', 'American International Group, Inc.', 'nyse'),\n",
       " ('IGOV', 'iShares S&P/Citigroup International Treasury Bond Fund', 'nasdaq'),\n",
       " ('INFI', 'Infinity Pharmaceuticals, Inc.', 'nasdaq'),\n",
       " ('IGT', 'International Game Technology', 'nyse'),\n",
       " ('NXN', 'Nuveen Insured New York Select Tax-Free Income Portfolio', 'nyse'),\n",
       " ('ORI', 'Old Republic International Corporation', 'nyse'),\n",
       " ('CCI', 'Crown Castle International Corporation', 'nyse'),\n",
       " ('LIQT', 'LiqTech International, Inc.', 'amex'),\n",
       " ('VGM', 'Invesco Trust for Investment Grade Municipals', 'nyse'),\n",
       " ('IBOC', 'International Bancshares Corporation', 'nasdaq'),\n",
       " ('VSH', 'Vishay Intertechnology, Inc.', 'nyse'),\n",
       " ('INS', 'Intelligent Systems Corporation', 'amex'),\n",
       " ('INXN', 'InterXion Holding N.V.', 'nyse'),\n",
       " ('IDN', 'Intellicheck Mobilisa, Inc.', 'amex'),\n",
       " ('EROS', 'Eros International PLC', 'nyse'),\n",
       " ('IPCI', 'Intellipharmaceutics International Inc.', 'nasdaq'),\n",
       " ('ENVA', 'Enova International, Inc.', 'nyse'),\n",
       " ('FPT', 'Federated Premier Intermediate Municipal Income Fund', 'nyse'),\n",
       " ('TWI', 'Titan International, Inc.', 'nyse'),\n",
       " ('SODA', 'SodaStream International Ltd.', 'nasdaq'),\n",
       " ('ISCA', 'International Speedway Corporation', 'nasdaq'),\n",
       " ('OII', 'Oceaneering International, Inc.', 'nyse'),\n",
       " ('FSI', 'Flexible Solutions International Inc.', 'amex'),\n",
       " ('VRIG', 'PowerShares Variable Rate Investment Grade Portfolio', 'nasdaq'),\n",
       " ('BNY',\n",
       "  'BlackRock New York Investment Quality Municipal Trust Inc. (Th',\n",
       "  'nyse'),\n",
       " ('NXC', 'Nuveen Insured California Select Tax-Free Income Portfolio', 'nyse'),\n",
       " ('NID', 'Nuveen Intermediate Duration Municipal Term Fund', 'nyse'),\n",
       " ('VRX', 'Valeant Pharmaceuticals International, Inc.', 'nyse'),\n",
       " ('WILC', 'G. Willi-Food International,  Ltd.', 'nasdaq'),\n",
       " ('IXUS', 'iShares Core MSCI Total International Stock ETF', 'nasdaq'),\n",
       " ('YDIV',\n",
       "  'First Trust International Multi-Asset Diversified Income Index',\n",
       "  'nasdaq'),\n",
       " ('SREV', 'ServiceSource International, Inc.', 'nasdaq'),\n",
       " ('CIL', 'Victory CEMP International Volatility Wtd Index ETF', 'nasdaq'),\n",
       " ('MATW', 'Matthews International Corporation', 'nasdaq'),\n",
       " ('AIT', 'Applied Industrial Technologies, Inc.', 'nyse'),\n",
       " ('IFF', 'Internationa Flavors & Fragrances, Inc.', 'nyse'),\n",
       " ('PSCT',\n",
       "  'PowerShares S&P SmallCap Information Technology Portfolio',\n",
       "  'nasdaq'),\n",
       " ('RHI', 'Robert Half International Inc.', 'nyse'),\n",
       " ('BOTZ',\n",
       "  'Global X Robotics & Artificial Intelligence Thematic ETF',\n",
       "  'nasdaq'),\n",
       " ('VXUS', 'Vanguard Total International Stock ETF', 'nasdaq'),\n",
       " ('SYUT', 'Synutra International, Inc.', 'nasdaq'),\n",
       " ('ENDP', 'Endo International plc', 'nasdaq'),\n",
       " ('GRIF', 'Griffin Industrial Realty, Inc.', 'nasdaq'),\n",
       " ('INSI', 'Insight Select Income Fund', 'nyse'),\n",
       " ('HPJ', 'Highpower International Inc', 'nasdaq'),\n",
       " ('BNDX', 'Vanguard Total International Bond ETF', 'nasdaq'),\n",
       " ('DOOR', 'Masonite International Corporation', 'nyse'),\n",
       " ('IBP', 'Installed Building Products, Inc.', 'nyse'),\n",
       " ('MGA', 'Magna International, Inc.', 'nyse'),\n",
       " ('IGLD', 'Internet Gold Golden Lines Ltd.', 'nasdaq'),\n",
       " ('NIQ', 'Nuveenn Intermediate Duration Quality Municipal Term Fund', 'nyse'),\n",
       " ('CMP', 'Compass Minerals International, Inc.', 'nyse'),\n",
       " ('THM', 'International Tower Hill Mines Ltd', 'amex'),\n",
       " ('CRL', 'Charles River Laboratories International, Inc.', 'nyse'),\n",
       " ('IDTI', 'Integrated Device Technology, Inc.', 'nasdaq'),\n",
       " ('SGMA', 'SigmaTron International, Inc.', 'nasdaq'),\n",
       " ('PCOM', 'Points International, Ltd.', 'nasdaq'),\n",
       " ('IPCC', 'Infinity Property and Casualty Corporation', 'nasdaq'),\n",
       " ('NTLA', 'Intellia Therapeutics, Inc.', 'nasdaq'),\n",
       " ('NBH', 'Neuberger Berman Intermediate Municipal Fund Inc.', 'amex'),\n",
       " ('CRAI', 'CRA International,Inc.', 'nasdaq'),\n",
       " ('ISIL', 'Intersil Corporation', 'nasdaq'),\n",
       " ('TASR', 'TASER International, Inc.', 'nasdaq'),\n",
       " ('MGI', 'Moneygram International, Inc.', 'nasdaq'),\n",
       " ('MERC', 'Mercer International Inc.', 'nasdaq'),\n",
       " ('CIE', 'Cobalt International Energy, Inc.', 'nyse'),\n",
       " ('PRXL', 'PAREXEL International Corporation', 'nasdaq'),\n",
       " ('CORI', 'Corium International, Inc.', 'nasdaq'),\n",
       " ('ITG', 'Investment Technology Group, Inc.', 'nyse'),\n",
       " ('IID', 'Voya International High Dividend Equity Income Fund', 'nyse'),\n",
       " ('RDI', 'Reading International Inc', 'nasdaq'),\n",
       " ('SEAC', 'SeaChange International, Inc.', 'nasdaq'),\n",
       " ('IHG', 'Intercontinental Hotels Group', 'nyse'),\n",
       " ('MDLZ', 'Mondelez International, Inc.', 'nasdaq'),\n",
       " ('TRTN', 'Triton International Limited', 'nyse'),\n",
       " ('AXE', 'Anixter International Inc.', 'nyse'),\n",
       " ('IBM', 'International Business Machines Corporation', 'nyse'),\n",
       " ('ATKR', 'Atkore International Group Inc.', 'nyse'),\n",
       " ('ISSC', 'Innovative Solutions and Support, Inc.', 'nasdaq'),\n",
       " ('IDCC', 'InterDigital, Inc.', 'nasdaq'),\n",
       " ('TEDU', 'Tarena International, Inc.', 'nasdaq'),\n",
       " ('OIS', 'Oil States International, Inc.', 'nyse'),\n",
       " ('FPXI', 'First Trust International IPO ETF', 'nasdaq'),\n",
       " ('ISHG',\n",
       "  'iShares S&P/Citigroup 1-3 Year International Treasury Bond Fun',\n",
       "  'nasdaq'),\n",
       " ('RFDI',\n",
       "  'First Trust RiverFront Dynamic Developed International ETF',\n",
       "  'nasdaq'),\n",
       " ('INVT', 'Inventergy Global, Inc.', 'nasdaq'),\n",
       " ('LII', 'Lennox International, Inc.', 'nyse'),\n",
       " ('VIDI', 'Vident International Equity Fund', 'nasdaq'),\n",
       " ('INTC', 'Intel Corporation', 'nasdaq'),\n",
       " ('PRN', 'PowerShares DWA Industrials Momentum Portfolio', 'nasdaq'),\n",
       " ('SFL', 'Ship Finance International Limited', 'nyse'),\n",
       " ('MSLI', 'Merus Labs International Inc.', 'nasdaq'),\n",
       " ('KFY', 'Korn/Ferry International', 'nyse'),\n",
       " ('LOGI', 'Logitech International S.A.', 'nasdaq'),\n",
       " ('WTW', 'Weight Watchers International Inc', 'nyse'),\n",
       " ('ITCI', 'Intra-Cellular Therapies Inc.', 'nasdaq'),\n",
       " ('MFL', 'Blackrock MuniHoldings Investment Quality Fund', 'nyse'),\n",
       " ('ITGR', 'Integer Holdings Corporation', 'nyse'),\n",
       " ('IVR^A', 'Invesco Mortgage Capital Inc.', 'nyse'),\n",
       " ('MGM', 'MGM Resorts International', 'nyse'),\n",
       " ('JHX', 'James Hardie Industries plc.', 'nyse'),\n",
       " ('IRET', 'Investors Real Estate Trust', 'nyse'),\n",
       " ('CIX', 'CompX International Inc.', 'amex'),\n",
       " ('JMEI', 'Jumei International Holding Limited', 'nyse'),\n",
       " ('OXFD', 'Oxford Immunotec Global PLC', 'nasdaq'),\n",
       " ('SNOW', 'Intrawest Resorts Holdings, Inc.', 'nyse'),\n",
       " ('CXRX', 'Concordia International Corp.', 'nasdaq'),\n",
       " ('SMI', 'Semiconductor  Manufacturing International Corporation', 'nyse'),\n",
       " ('FR', 'First Industrial Realty Trust, Inc.', 'nyse'),\n",
       " ('JCI', 'Johnson Controls International plc', 'nyse'),\n",
       " ('AIN', 'Albany International Corporation', 'nyse'),\n",
       " ('SXI', 'Standex International Corporation', 'nyse'),\n",
       " ('WHLM', 'Wilhelmina International, Inc.', 'nasdaq'),\n",
       " ('EAT', 'Brinker International, Inc.', 'nyse'),\n",
       " ('WCC', 'WESCO International, Inc.', 'nyse'),\n",
       " ('HNP', 'Huaneng Power International, Inc.', 'nyse'),\n",
       " ('IP', 'International Paper Company', 'nyse'),\n",
       " ('GNUS', 'Genius Brands International, Inc.', 'nasdaq'),\n",
       " ('PZZA', \"Papa John's International, Inc.\", 'nasdaq'),\n",
       " ('HON', 'Honeywell International Inc.', 'nyse'),\n",
       " ('TIK', 'Tel-Instrument Electronics Corp.', 'amex'),\n",
       " ('PERY', 'Perry Ellis International Inc.', 'nasdaq'),\n",
       " ('VMM',\n",
       "  'Delaware Investments Minnesota Municipal Income Fund II, Inc.',\n",
       "  'amex'),\n",
       " ('INFU', 'InfuSystems Holdings, Inc.', 'amex'),\n",
       " ('MDR', 'McDermott International, Inc.', 'nyse'),\n",
       " ('IOT', 'Income Opportunity Realty Investors, Inc.', 'amex'),\n",
       " ('SCI', 'Service Corporation International', 'nyse'),\n",
       " ('TORM          ', 'TOR Minerals International Inc', 'nasdaq'),\n",
       " ('ICE', 'Intercontinental Exchange Inc.', 'nyse'),\n",
       " ('ARRS', 'ARRIS International plc', 'nasdaq'),\n",
       " ('TPX', 'Tempur Sealy International, Inc.', 'nyse'),\n",
       " ('CF', 'CF Industries Holdings, Inc.', 'nyse'),\n",
       " ('NBO', 'Neuberger Berman New York Intermediate Municipal Fund Inc.', 'amex'),\n",
       " ('MGU', 'Macquarie Global Infrastructure Total Return Fund Inc.', 'nyse'),\n",
       " ('CLUB', 'Town Sports International Holdings, Inc.', 'nasdaq'),\n",
       " ('PID', 'PowerShares International Dividend Achievers Portfolio', 'nasdaq'),\n",
       " ('VCF', 'Delaware Investments Colorado Municipal Income Fund, Inc', 'amex'),\n",
       " ('RELV', \"Reliv' International, Inc.\", 'nasdaq'),\n",
       " ('MFT', 'Blackrock MuniYield Investment QualityFund', 'nyse'),\n",
       " ('HYZD', 'WisdomTree Interest Rate Hedged High Yield Bond Fund', 'nasdaq'),\n",
       " ('IHT', 'InnSuites Hospitality Trust', 'amex'),\n",
       " ('CNIT', 'China Information Technology, Inc.', 'nasdaq'),\n",
       " ('EXPD', 'Expeditors International of Washington, Inc.', 'nasdaq'),\n",
       " ('WPCS', 'WPCS International Incorporated', 'nasdaq'),\n",
       " ('FI', \"Frank's International N.V.\", 'nyse'),\n",
       " ('TRT', 'Trio-Tech International', 'amex'),\n",
       " ('OIIM', 'O2Micro International Limited', 'nasdaq'),\n",
       " ('IMI', 'Intermolecular, Inc.', 'nasdaq'),\n",
       " ('EIX', 'Edison International', 'nyse'),\n",
       " ('CIGI', 'Colliers International Group Inc. ', 'nasdaq'),\n",
       " ('ATV', 'Acorn International, Inc.', 'nyse'),\n",
       " ('SPNS', 'Sapiens International Corporation N.V.', 'nasdaq'),\n",
       " ('PSIX', 'Power Solutions International, Inc.', 'nasdaq'),\n",
       " ('SUP', 'Superior Industries International, Inc.', 'nyse'),\n",
       " ('AOI', 'Alliance One International, Inc.', 'nyse'),\n",
       " ('IIIN', 'Insteel Industries, Inc.', 'nasdaq'),\n",
       " ('IFV', 'First Trust Dorsey Wright International Focus 5 ETF', 'nasdaq'),\n",
       " ('ITEK', 'Inotek Pharmaceuticals Corporation', 'nasdaq'),\n",
       " ('ISRG', 'Intuitive Surgical, Inc.', 'nasdaq'),\n",
       " ('NTIC', 'Northern Technologies International Corporation', 'nasdaq'),\n",
       " ('CLNT', 'Cleantech Solutions International, Inc.', 'nasdaq'),\n",
       " ('AGII', 'Argo Group International Holdings, Ltd.', 'nasdaq'),\n",
       " ('VDSI', 'VASCO Data Security International, Inc.', 'nasdaq'),\n",
       " ('MPSX', 'Multi Packaging Solutions International Limited', 'nyse'),\n",
       " ('IVR', 'INVESCO MORTGAGE CAPITAL INC', 'nyse'),\n",
       " ('BGY', 'BLACKROCK INTERNATIONAL, LTD.', 'nyse'),\n",
       " ('SAIC', 'SCIENCE APPLICATIONS INTERNATIONAL CORPORATION', 'nyse'),\n",
       " ('LND', 'Brasilagro Cia Brasileira De Propriedades Agricolas', 'nyse'),\n",
       " ('ADRE', 'BLDRS Emerging Markets 50 ADR Index Fund', 'nasdaq'),\n",
       " ('SBS',\n",
       "  'Companhia de saneamento Basico Do Estado De Sao Paulo - Sabesp',\n",
       "  'nyse'),\n",
       " ('BDSI', 'BioDelivery Sciences International, Inc.', 'nasdaq'),\n",
       " ('GBDC', 'Golub Capital BDC, Inc.', 'nasdaq'),\n",
       " ('MUI', 'Blackrock Muni Intermediate Duration Fund Inc', 'nyse'),\n",
       " ('BLIN          ', 'Bridgeline Digital, Inc.', 'nasdaq'),\n",
       " ('ADRD', 'BLDRS Developed Markets 100 ADR Index Fund', 'nasdaq'),\n",
       " ('TPVG', 'TriplePoint Venture Growth BDC Corp.', 'nyse'),\n",
       " ('BCH', 'Banco De Chile', 'nyse'),\n",
       " ('GSBD', 'Goldman Sachs BDC, Inc.', 'nyse'),\n",
       " ('BGY', 'BLACKROCK INTERNATIONAL, LTD.', 'nyse'),\n",
       " ('ABMD', 'ABIOMED, Inc.', 'nasdaq'),\n",
       " ('CBD', 'Companhia Brasileira de Distribuicao', 'nyse'),\n",
       " ('BDE', 'Black Diamond, Inc.', 'nasdaq'),\n",
       " ('BHL', 'Blackrock Defined Opportunity Credit Trust', 'nyse'),\n",
       " ('ADRA', 'BLDRS Asia 50 ADR Index Fund', 'nasdaq'),\n",
       " ('BDJ', 'Blackrock Enhanced Equity Dividend Trust', 'nyse'),\n",
       " ('AGND',\n",
       "  'WisdomTree Barclays Negative Duration U.S. Aggregate Bond Fund',\n",
       "  'nasdaq'),\n",
       " ('BGH', 'Babson Global Short Duration High Yield Fund', 'nyse'),\n",
       " ('SWJ', 'Stanley Black & Decker, Inc.', 'nyse'),\n",
       " ('MB', 'MINDBODY, Inc.', 'nasdaq'),\n",
       " ('KBWD', 'PowerShares KBW High Dividend Yield Financial Portfolio', 'nasdaq'),\n",
       " ('DSU', 'Blackrock Debt Strategies Fund, Inc.', 'nyse'),\n",
       " ('ADRU', 'BLDRS Europe 100 ADR Index Fund', 'nasdaq'),\n",
       " ('BDX', 'Becton, Dickinson and Company', 'nyse'),\n",
       " ('FBZ', 'First Trust Brazil AlphaDEX Fund', 'nasdaq'),\n",
       " ('MNE', 'Blackrock Muni New York Intermediate Duration Fund Inc', 'nyse'),\n",
       " ('DTLA^', 'Brookfield DTLA Inc.', 'nyse'),\n",
       " ('LND', 'Brasilagro Cia Brasileira De Propriedades Agricolas', 'nyse'),\n",
       " ('ADRE', 'BLDRS Emerging Markets 50 ADR Index Fund', 'nasdaq'),\n",
       " ('SBS',\n",
       "  'Companhia de saneamento Basico Do Estado De Sao Paulo - Sabesp',\n",
       "  'nyse'),\n",
       " ('BDSI', 'BioDelivery Sciences International, Inc.', 'nasdaq'),\n",
       " ('GBDC', 'Golub Capital BDC, Inc.', 'nasdaq'),\n",
       " ('MUI', 'Blackrock Muni Intermediate Duration Fund Inc', 'nyse'),\n",
       " ('BLIN          ', 'Bridgeline Digital, Inc.', 'nasdaq'),\n",
       " ('ADRD', 'BLDRS Developed Markets 100 ADR Index Fund', 'nasdaq'),\n",
       " ('TPVG', 'TriplePoint Venture Growth BDC Corp.', 'nyse'),\n",
       " ('BCH', 'Banco De Chile', 'nyse'),\n",
       " ('GSBD', 'Goldman Sachs BDC, Inc.', 'nyse'),\n",
       " ('BGY', 'BLACKROCK INTERNATIONAL, LTD.', 'nyse'),\n",
       " ('ABMD', 'ABIOMED, Inc.', 'nasdaq'),\n",
       " ('CBD', 'Companhia Brasileira de Distribuicao', 'nyse'),\n",
       " ('BDE', 'Black Diamond, Inc.', 'nasdaq'),\n",
       " ('BHL', 'Blackrock Defined Opportunity Credit Trust', 'nyse'),\n",
       " ('ADRA', 'BLDRS Asia 50 ADR Index Fund', 'nasdaq'),\n",
       " ('BDJ', 'Blackrock Enhanced Equity Dividend Trust', 'nyse'),\n",
       " ('AGND',\n",
       "  'WisdomTree Barclays Negative Duration U.S. Aggregate Bond Fund',\n",
       "  'nasdaq'),\n",
       " ('BGH', 'Babson Global Short Duration High Yield Fund', 'nyse'),\n",
       " ('SWJ', 'Stanley Black & Decker, Inc.', 'nyse'),\n",
       " ('MB', 'MINDBODY, Inc.', 'nasdaq'),\n",
       " ('KBWD', 'PowerShares KBW High Dividend Yield Financial Portfolio', 'nasdaq'),\n",
       " ('DSU', 'Blackrock Debt Strategies Fund, Inc.', 'nyse'),\n",
       " ('ADRU', 'BLDRS Europe 100 ADR Index Fund', 'nasdaq'),\n",
       " ('BDX', 'Becton, Dickinson and Company', 'nyse'),\n",
       " ('FBZ', 'First Trust Brazil AlphaDEX Fund', 'nasdaq'),\n",
       " ('MNE', 'Blackrock Muni New York Intermediate Duration Fund Inc', 'nyse'),\n",
       " ('DTLA^', 'Brookfield DTLA Inc.', 'nyse')]"
      ]
     },
     "execution_count": 12,
     "metadata": {},
     "output_type": "execute_result"
    }
   ],
   "source": [
    "w.lookup_ticker(['Intel', 'BD'])"
   ]
  },
  {
   "cell_type": "code",
   "execution_count": 13,
   "metadata": {
    "collapsed": false
   },
   "outputs": [
    {
     "data": {
      "text/plain": [
       "[('n/a', 'INTC')]"
      ]
     },
     "execution_count": 13,
     "metadata": {},
     "output_type": "execute_result"
    }
   ],
   "source": [
    "x.ipo_year('Intel Corporation')"
   ]
  },
  {
   "cell_type": "code",
   "execution_count": 14,
   "metadata": {
    "collapsed": false
   },
   "outputs": [
    {
     "data": {
      "text/plain": [
       "[('2001', 'BHK'), ('2006', 'BTZ')]"
      ]
     },
     "execution_count": 14,
     "metadata": {},
     "output_type": "execute_result"
    }
   ],
   "source": [
    "z.ipo_year(['Blackrock Core Bond Trust', 'BlackRock Credit Allocation Income Trust'])"
   ]
  },
  {
   "cell_type": "code",
   "execution_count": null,
   "metadata": {
    "collapsed": true
   },
   "outputs": [],
   "source": []
  }
 ],
 "metadata": {
  "anaconda-cloud": {},
  "kernelspec": {
   "display_name": "Python [conda root]",
   "language": "python",
   "name": "conda-root-py"
  },
  "language_info": {
   "codemirror_mode": {
    "name": "ipython",
    "version": 3
   },
   "file_extension": ".py",
   "mimetype": "text/x-python",
   "name": "python",
   "nbconvert_exporter": "python",
   "pygments_lexer": "ipython3",
   "version": "3.5.2"
  }
 },
 "nbformat": 4,
 "nbformat_minor": 1
}
