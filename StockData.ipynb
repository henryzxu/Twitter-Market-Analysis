{
 "cells": [
  {
   "cell_type": "code",
   "execution_count": 1,
   "metadata": {
    "collapsed": false,
    "scrolled": true
   },
   "outputs": [],
   "source": [
    "from utils import stockutils, basicutils, matchutils, stringparsing, sql_config\n",
    "import re\n",
    "try:\n",
    "    import pandas_datareader.data as web, datetime\n",
    "    market_data = True\n",
    "except ImportError:\n",
    "    print('Market analysis unavailable.')"
   ]
  },
  {
   "cell_type": "code",
   "execution_count": 2,
   "metadata": {
    "collapsed": false
   },
   "outputs": [
    {
     "name": "stdout",
     "output_type": "stream",
     "text": [
      "No file found at utils/data/json/cache/lookup.json.\n",
      "No file found at utils/data/json/cache/delta_stock_price.json.\n"
     ]
    }
   ],
   "source": [
    "class StockData:\n",
    "    def __init__(self, update = False):\n",
    "        self.company_table = stockutils.company_table(update = update)\n",
    "    \n",
    "    @basicutils.memo\n",
    "    def lookup(self, search_info = ('symbol', 'name', 'se'), num_results = 5, fuzzy_search = True, **conditions):\n",
    "        \"\"\"Converts company_name to ticker symbol. Returns a tuple of (symbol, company name) \n",
    "        or returns an empty table if company or ticker is not found.\"\"\"\n",
    "        initial = conditions.copy()\n",
    "        if isinstance(search_info, str):\n",
    "            current_search = [search_info[:]]\n",
    "        else:\n",
    "            current_search = list(search_info)\n",
    "        order = []\n",
    "        if 'name' in conditions:\n",
    "            if fuzzy_search:\n",
    "                fuzzy_names = []\n",
    "                if not isinstance(conditions['name'], list):\n",
    "                    conditions['name'] = [conditions['name']] \n",
    "                for name in conditions['name']:\n",
    "                    matches = matchutils.fuzzy_search(name, self.company_table.keys(), num_results = num_results)\n",
    "                    fuzzy_names.extend([self.company_table[match] \n",
    "                                        for match in matches[0] or matches[1] or matches[2]])\n",
    "                order = conditions['name'] = fuzzy_names\n",
    "            else:\n",
    "                order = conditions['name']\n",
    "            current_search.append('name')\n",
    "        elif 'symbol' in conditions:\n",
    "            order = conditions['symbol'] if isinstance(conditions['symbol'], list) else [conditions['symbol']]\n",
    "            current_search.append('symbol')\n",
    "        results = stockutils.sql_search(sql_config.sql_path, sql_config.sql_table_name, current_search, **conditions)\n",
    "        if order:\n",
    "            sorted_results = [item[:-1] for identifier in order for item in results if identifier == item[-1]]\n",
    "            return sorted_results or [(\"No results found matching following conditions: \", str(initial))]\n",
    "        return results or [(\"No results found matching following conditions: \", str(initial))]\n",
    "\n",
    "    def parse_companies(self, sentence):\n",
    "        \"\"\"Given a string, returns all parsed companies.\"\"\"\n",
    "        res = []\n",
    "        companies = stringparsing.fuzzy_parse(sentence, self.company_table.keys())\n",
    "        for parsed, names in companies:\n",
    "            res.append([parsed, self.lookup(name = names, fuzzy_search = False)])\n",
    "        return res\n",
    "    \n",
    "    @basicutils.memo\n",
    "    def delta_stock_price(self, ticker, date):\n",
    "        \"\"\"Returns opening price of ticker on date and closing price of ticker on the next day.\"\"\"\n",
    "        if market_data:\n",
    "            try:\n",
    "                prev_day = date + datetime.timedelta(days = -1)\n",
    "                next_day = date + datetime.timedelta(days = 1)\n",
    "                day_data = web.DataReader(ticker, 'google', prev_day, next_day).ix\n",
    "                return (day_data[str(prev_day)[:10]][3],day_data[str(next_day)[:10]][0])\n",
    "            except:\n",
    "                try:\n",
    "                    prev_day = date\n",
    "                    next_day = date + datetime.timedelta(days = 1)\n",
    "                    day_data = web.DataReader(ticker, 'yahoo', prev_day, next_day).ix\n",
    "                    return (day_data[str(prev_day)[:10]][0],day_data[str(next_day)[:10]][0])\n",
    "                except:\n",
    "                    return [None,None]\n",
    "    \n",
    "    def news_impact(self, date, headline, dump = True):\n",
    "        \"\"\"Give a datetime object and headline, stores and returns parsed compaies \n",
    "        and their respective stock movements.\"\"\"\n",
    "        result = []\n",
    "        companies = self.parse_companies(headline)\n",
    "        if len(companies) > 1 or min([len(company[1]) for company in companies] or [2]) > 1:\n",
    "            print('Multiple or no companies found, data export disabled.')\n",
    "            dump = False\n",
    "        for company in companies:\n",
    "            for res in company[1][:2]:\n",
    "                open_price, close_price = self.delta_stock_price(res[0], date)\n",
    "                if not open_price:\n",
    "                    result.append('No data available for {0} on {1}'.format(str(date)[:10], res[1]))\n",
    "                else:\n",
    "                    net_change = (close_price-open_price)/open_price*100\n",
    "                    print('Company: {0}\\tPrevious Day Close: {1}\\tNext Day Open: {2}\\tNet Change: {3}'.format(res[1],open_price, close_price, net_change))\n",
    "                    if abs(net_change) > 3:\n",
    "                        if net_change < 0:\n",
    "                            result.append('Negative for {}'.format(res[1]))\n",
    "                        else:\n",
    "                            result.append('Positive for {}'.format(res[1]))\n",
    "                    else:\n",
    "                        result.append('Neutral for {}'.format(res[1]))\n",
    "                if dump and open_price:\n",
    "                    stringparsing.connotation_dump('utils/data/json/word_connotations.json', headline, net_change)\n",
    "        return result\n",
    "    \n",
    "    def impact_prediction(self, headline):\n",
    "        \"\"\"Given a headline, returns prediction of parsed companies' market movement.\"\"\"\n",
    "        res, bigram_list = [], []\n",
    "        parsed_words = [word.lower() for word in re.sub(r'[^\\w\\s]','', headline).split()]\n",
    "        conn_dict = basicutils.import_json('utils/data/json/word_connotations.json')\n",
    "        try:\n",
    "            for bigram in stringparsing.list_bigrams(parsed_words):\n",
    "                bigram_string = ' '.join(bigram)\n",
    "                value =  basicutils.avg(basicutils.dict_req(bigram_string, conn_dict)) \n",
    "                res.append(value)\n",
    "                if value:\n",
    "                    bigram_list.extend(bigram)\n",
    "        except AssertionError:\n",
    "            print('Bigrams not factored into prediction.')\n",
    "        for word in parsed_words:\n",
    "            if not word in bigram_list:\n",
    "                value = basicutils.avg(basicutils.dict_req(word, conn_dict))\n",
    "                res.append(value)\n",
    "        res = [value for value in res if value]\n",
    "        predicted_impact = basicutils.avg(res)\n",
    "        companies = self.parse_companies(headline)\n",
    "        return [(predicted_impact, company[1]) \n",
    "                 for parsed_company in companies for company in parsed_company[1]]\n",
    "        \n",
    "        "
   ]
  },
  {
   "cell_type": "code",
   "execution_count": 3,
   "metadata": {
    "collapsed": false
   },
   "outputs": [],
   "source": [
    "w = StockData()"
   ]
  },
  {
   "cell_type": "code",
   "execution_count": 4,
   "metadata": {
    "collapsed": false,
    "scrolled": true
   },
   "outputs": [
    {
     "name": "stdout",
     "output_type": "stream",
     "text": [
      "Company: Macy's Inc\tPrevious Day Close: 35.84\tNext Day Open: 30.82\tNet Change: -14.006696428571436\n",
      "No file found at utils/data/json/word_connotations.json.\n",
      "Data dumped at utils/data/json/word_connotations.json.\n"
     ]
    },
    {
     "data": {
      "text/plain": [
       "[\"Negative for Macy's Inc\"]"
      ]
     },
     "execution_count": 4,
     "metadata": {},
     "output_type": "execute_result"
    }
   ],
   "source": [
    "w.news_impact(datetime.datetime(2017,1,5),\"Macy's to cut more than 10,000 jobs, close 68 stores\")"
   ]
  },
  {
   "cell_type": "code",
   "execution_count": 5,
   "metadata": {
    "collapsed": false,
    "scrolled": false
   },
   "outputs": [
    {
     "name": "stdout",
     "output_type": "stream",
     "text": [
      "Company: Macy's Inc\tPrevious Day Close: 35.84\tNext Day Open: 30.82\tNet Change: -14.006696428571436\n",
      "Data loaded from utils/data/json/word_connotations.json.\n",
      "Data dumped at utils/data/json/word_connotations.json.\n"
     ]
    },
    {
     "data": {
      "text/plain": [
       "[\"Negative for Macy's Inc\"]"
      ]
     },
     "execution_count": 5,
     "metadata": {},
     "output_type": "execute_result"
    }
   ],
   "source": [
    "w.news_impact(datetime.datetime(2017,1,5), \"Signs of Macy's slowdown appear as number of empty storefronts grows.\")"
   ]
  },
  {
   "cell_type": "code",
   "execution_count": 6,
   "metadata": {
    "collapsed": false,
    "scrolled": true
   },
   "outputs": [
    {
     "name": "stdout",
     "output_type": "stream",
     "text": [
      "Company: Macy's Inc\tPrevious Day Close: 35.84\tNext Day Open: 30.82\tNet Change: -14.006696428571436\n",
      "Data loaded from utils/data/json/word_connotations.json.\n",
      "Data dumped at utils/data/json/word_connotations.json.\n"
     ]
    },
    {
     "data": {
      "text/plain": [
       "[\"Negative for Macy's Inc\"]"
      ]
     },
     "execution_count": 6,
     "metadata": {},
     "output_type": "execute_result"
    }
   ],
   "source": [
    "w.news_impact(datetime.datetime(2017,1,5), \"Macy's Inc ratings on CreditWatch negative\")"
   ]
  },
  {
   "cell_type": "code",
   "execution_count": 7,
   "metadata": {
    "collapsed": false
   },
   "outputs": [
    {
     "name": "stdout",
     "output_type": "stream",
     "text": [
      "Company: Macy's Inc\tPrevious Day Close: 35.84\tNext Day Open: 30.82\tNet Change: -14.006696428571436\n",
      "Data loaded from utils/data/json/word_connotations.json.\n",
      "Data dumped at utils/data/json/word_connotations.json.\n"
     ]
    },
    {
     "data": {
      "text/plain": [
       "[\"Negative for Macy's Inc\"]"
      ]
     },
     "execution_count": 7,
     "metadata": {},
     "output_type": "execute_result"
    }
   ],
   "source": [
    "w.news_impact(datetime.datetime(2017,1,5),\"Macy's closing 68 stores; job cuts total 10,000; online shopping results in 'declining traffic' for retail giant\")"
   ]
  },
  {
   "cell_type": "code",
   "execution_count": 8,
   "metadata": {
    "collapsed": false,
    "scrolled": true
   },
   "outputs": [
    {
     "name": "stdout",
     "output_type": "stream",
     "text": [
      "Company: Sprint Corporation\tPrevious Day Close: 8.72\tNext Day Open: 8.87\tNet Change: 1.7201834862385155\n",
      "Data loaded from utils/data/json/word_connotations.json.\n",
      "Data dumped at utils/data/json/word_connotations.json.\n"
     ]
    },
    {
     "data": {
      "text/plain": [
       "['Neutral for Sprint Corporation']"
      ]
     },
     "execution_count": 8,
     "metadata": {},
     "output_type": "execute_result"
    }
   ],
   "source": [
    "w.news_impact(datetime.datetime(2016, 12, 29),\"Sprint shares have risen 41% since the election. Catering to Trump's agenda could help the co achieve its own\")"
   ]
  },
  {
   "cell_type": "code",
   "execution_count": 9,
   "metadata": {
    "collapsed": false
   },
   "outputs": [
    {
     "name": "stdout",
     "output_type": "stream",
     "text": [
      "Company: Macy's Inc\tPrevious Day Close: 35.84\tNext Day Open: 30.82\tNet Change: -14.006696428571436\n",
      "Data loaded from utils/data/json/word_connotations.json.\n",
      "Data dumped at utils/data/json/word_connotations.json.\n"
     ]
    },
    {
     "data": {
      "text/plain": [
       "[\"Negative for Macy's Inc\"]"
      ]
     },
     "execution_count": 9,
     "metadata": {},
     "output_type": "execute_result"
    }
   ],
   "source": [
    "w.news_impact(datetime.datetime(2017, 1, 5,), \"Dismal sales slam Macy's\")"
   ]
  },
  {
   "cell_type": "code",
   "execution_count": 10,
   "metadata": {
    "collapsed": false,
    "scrolled": true
   },
   "outputs": [
    {
     "name": "stdout",
     "output_type": "stream",
     "text": [
      "Company: Macy's Inc\tPrevious Day Close: 35.84\tNext Day Open: 30.82\tNet Change: -14.006696428571436\n",
      "Data loaded from utils/data/json/word_connotations.json.\n",
      "Data dumped at utils/data/json/word_connotations.json.\n"
     ]
    },
    {
     "data": {
      "text/plain": [
       "[\"Negative for Macy's Inc\"]"
      ]
     },
     "execution_count": 10,
     "metadata": {},
     "output_type": "execute_result"
    }
   ],
   "source": [
    "w.news_impact(datetime.datetime(2017, 1, 5), \"Macy's to close stores, cut jobs amid weak sales\")"
   ]
  },
  {
   "cell_type": "code",
   "execution_count": 11,
   "metadata": {
    "collapsed": false,
    "scrolled": true
   },
   "outputs": [
    {
     "name": "stdout",
     "output_type": "stream",
     "text": [
      "Company: Macy's Inc\tPrevious Day Close: 35.84\tNext Day Open: 30.82\tNet Change: -14.006696428571436\n",
      "Data loaded from utils/data/json/word_connotations.json.\n",
      "Data dumped at utils/data/json/word_connotations.json.\n"
     ]
    },
    {
     "data": {
      "text/plain": [
       "[\"Negative for Macy's Inc\"]"
      ]
     },
     "execution_count": 11,
     "metadata": {},
     "output_type": "execute_result"
    }
   ],
   "source": [
    "w.news_impact(datetime.datetime(2017,1,5), \"Macy's cut outlooks on poor holiday sales\")"
   ]
  },
  {
   "cell_type": "code",
   "execution_count": 12,
   "metadata": {
    "collapsed": false,
    "scrolled": true
   },
   "outputs": [
    {
     "name": "stdout",
     "output_type": "stream",
     "text": [
      "Company: ConAgra Brands, Inc.\tPrevious Day Close: 38.0\tNext Day Open: 39.22\tNet Change: 3.210526315789471\n",
      "Data loaded from utils/data/json/word_connotations.json.\n",
      "Data dumped at utils/data/json/word_connotations.json.\n"
     ]
    },
    {
     "data": {
      "text/plain": [
       "['Positive for ConAgra Brands, Inc.']"
      ]
     },
     "execution_count": 12,
     "metadata": {},
     "output_type": "execute_result"
    }
   ],
   "source": [
    "w.news_impact(datetime.datetime(2016,12,22), \"ConAgra's profit beat sends shares to record high\")"
   ]
  },
  {
   "cell_type": "code",
   "execution_count": 13,
   "metadata": {
    "collapsed": false
   },
   "outputs": [
    {
     "name": "stdout",
     "output_type": "stream",
     "text": [
      "Company: Micron Technology, Inc.\tPrevious Day Close: 20.65\tNext Day Open: 22.91\tNet Change: 10.944309927360782\n",
      "Data loaded from utils/data/json/word_connotations.json.\n",
      "Data dumped at utils/data/json/word_connotations.json.\n"
     ]
    },
    {
     "data": {
      "text/plain": [
       "['Positive for Micron Technology, Inc.']"
      ]
     },
     "execution_count": 13,
     "metadata": {},
     "output_type": "execute_result"
    }
   ],
   "source": [
    "w.news_impact(datetime.datetime(2016,12,21), \"Chipmaker Micron's forecast powered by improving personal computer market\")"
   ]
  },
  {
   "cell_type": "code",
   "execution_count": 14,
   "metadata": {
    "collapsed": false,
    "scrolled": true
   },
   "outputs": [
    {
     "name": "stdout",
     "output_type": "stream",
     "text": [
      "Company: Macy's Inc\tPrevious Day Close: 35.84\tNext Day Open: 30.82\tNet Change: -14.006696428571436\n",
      "Data loaded from utils/data/json/word_connotations.json.\n",
      "Data dumped at utils/data/json/word_connotations.json.\n"
     ]
    },
    {
     "data": {
      "text/plain": [
       "[\"Negative for Macy's Inc\"]"
      ]
     },
     "execution_count": 14,
     "metadata": {},
     "output_type": "execute_result"
    }
   ],
   "source": [
    "w.news_impact(datetime.datetime(2017,1,5),\"Macy's lowers earning forcast amid slow sales\")"
   ]
  },
  {
   "cell_type": "code",
   "execution_count": 15,
   "metadata": {
    "collapsed": false
   },
   "outputs": [
    {
     "name": "stdout",
     "output_type": "stream",
     "text": [
      "Company: FedEx Corporation\tPrevious Day Close: 197.62\tNext Day Open: 194.5\tNet Change: -1.5787875721080886\n",
      "Data loaded from utils/data/json/word_connotations.json.\n",
      "Data dumped at utils/data/json/word_connotations.json.\n"
     ]
    },
    {
     "data": {
      "text/plain": [
       "['Neutral for FedEx Corporation']"
      ]
     },
     "execution_count": 15,
     "metadata": {},
     "output_type": "execute_result"
    }
   ],
   "source": [
    "w.news_impact(datetime.datetime(2016,12,20), \"FedEx quarterly profit up but misses expectations; stock falls\")"
   ]
  },
  {
   "cell_type": "code",
   "execution_count": 16,
   "metadata": {
    "collapsed": false
   },
   "outputs": [
    {
     "name": "stdout",
     "output_type": "stream",
     "text": [
      "Multiple or no companies found, data export disabled.\n"
     ]
    },
    {
     "data": {
      "text/plain": [
       "[]"
      ]
     },
     "execution_count": 16,
     "metadata": {},
     "output_type": "execute_result"
    }
   ],
   "source": [
    "w.news_impact(datetime.datetime(2017,1,3), \"Hyundai collaborates with Google Assistant in connecting homes to cars\")"
   ]
  },
  {
   "cell_type": "code",
   "execution_count": 17,
   "metadata": {
    "collapsed": false
   },
   "outputs": [
    {
     "name": "stdout",
     "output_type": "stream",
     "text": [
      "Data loaded from utils/data/json/word_connotations.json.\n",
      "by improving [10.944309927360782]\n",
      "market [10.944309927360782]\n"
     ]
    },
    {
     "data": {
      "text/plain": [
       "[(10.944309927360782, 'Intel Corporation')]"
      ]
     },
     "execution_count": 17,
     "metadata": {},
     "output_type": "execute_result"
    }
   ],
   "source": [
    "w.impact_prediction(\"Intel's earnings fueled by improving industry market\")"
   ]
  },
  {
   "cell_type": "code",
   "execution_count": 18,
   "metadata": {
    "collapsed": false
   },
   "outputs": [
    {
     "name": "stdout",
     "output_type": "stream",
     "text": [
      "Company: Macy's Inc\tPrevious Day Close: 35.84\tNext Day Open: 30.82\tNet Change: -14.006696428571436\n",
      "Data loaded from utils/data/json/word_connotations.json.\n",
      "Data dumped at utils/data/json/word_connotations.json.\n"
     ]
    },
    {
     "data": {
      "text/plain": [
       "[\"Negative for Macy's Inc\"]"
      ]
     },
     "execution_count": 18,
     "metadata": {},
     "output_type": "execute_result"
    }
   ],
   "source": [
    "w.news_impact(datetime.datetime(2017,1,5),\"Macy's facing heavy losses with lackluster holiday retail season\")"
   ]
  },
  {
   "cell_type": "code",
   "execution_count": 19,
   "metadata": {
    "collapsed": false
   },
   "outputs": [
    {
     "name": "stdout",
     "output_type": "stream",
     "text": [
      "Data loaded from utils/data/json/word_connotations.json.\n",
      "holiday retail [-14.006696428571436]\n",
      "retail season [-14.006696428571436]\n",
      "facing [-14.006696428571436]\n",
      "dismal [-14.006696428571436]\n"
     ]
    },
    {
     "data": {
      "text/plain": [
       "[(-14.006696428571436, 'Sears Canada Inc. '),\n",
       " (-14.006696428571436, 'Sears Holdings Corporation'),\n",
       " (-14.006696428571436, 'Sears Hometown and Outlet Stores, Inc.')]"
      ]
     },
     "execution_count": 19,
     "metadata": {},
     "output_type": "execute_result"
    }
   ],
   "source": [
    "w.impact_prediction('Sears facing dismal holiday retail season.')"
   ]
  },
  {
   "cell_type": "code",
   "execution_count": 20,
   "metadata": {
    "collapsed": false,
    "scrolled": true
   },
   "outputs": [
    {
     "name": "stdout",
     "output_type": "stream",
     "text": [
      "Data loaded from utils/data/json/word_connotations.json.\n",
      "grows [-14.006696428571436]\n",
      "in [-14.006696428571436]\n",
      "improving [10.944309927360782]\n",
      "market [10.944309927360782]\n"
     ]
    },
    {
     "data": {
      "text/plain": [
       "[(-1.5311932506053272, 'NVIDIA Corporation')]"
      ]
     },
     "execution_count": 20,
     "metadata": {},
     "output_type": "execute_result"
    }
   ],
   "source": [
    "w.impact_prediction('NVIDIA grows in improving consumer electronics market')"
   ]
  },
  {
   "cell_type": "code",
   "execution_count": 21,
   "metadata": {
    "collapsed": false
   },
   "outputs": [
    {
     "name": "stdout",
     "output_type": "stream",
     "text": [
      "Data loaded from utils/data/json/word_connotations.json.\n",
      "with [-14.006696428571436]\n"
     ]
    },
    {
     "data": {
      "text/plain": [
       "[(-14.006696428571436, 'Ford Motor Company')]"
      ]
     },
     "execution_count": 21,
     "metadata": {},
     "output_type": "execute_result"
    }
   ],
   "source": [
    "w.impact_prediction('Ford faces legal uphill battle with Takata airbag recall')"
   ]
  },
  {
   "cell_type": "code",
   "execution_count": 22,
   "metadata": {
    "collapsed": false
   },
   "outputs": [
    {
     "name": "stdout",
     "output_type": "stream",
     "text": [
      "Company: Ford Motor Company\tPrevious Day Close: 12.2\tNext Day Open: 12.77\tNet Change: 4.672131147540986\n",
      "Data loaded from utils/data/json/word_connotations.json.\n",
      "Data dumped at utils/data/json/word_connotations.json.\n"
     ]
    },
    {
     "data": {
      "text/plain": [
       "['Positive for Ford Motor Company']"
      ]
     },
     "execution_count": 22,
     "metadata": {},
     "output_type": "execute_result"
    }
   ],
   "source": [
    "w.news_impact(datetime.datetime(2017,1,3), \"Ford rolling out hybrid versions of its iconic Mustang and F-150\")"
   ]
  },
  {
   "cell_type": "code",
   "execution_count": 23,
   "metadata": {
    "collapsed": false
   },
   "outputs": [
    {
     "data": {
      "text/plain": [
       "[('ARES', 'Ares Management L.P.', '2014', '$3.78B'),\n",
       " ('WM', 'Waste Management, Inc.', 'n/a', '$31.39B'),\n",
       " ('MDLY', 'Medley Management Inc.', '2014', '$285.6M'),\n",
       " ('OMAA', 'OM Asset Management plc', '2016', 'n/a')]"
      ]
     },
     "execution_count": 23,
     "metadata": {},
     "output_type": "execute_result"
    }
   ],
   "source": [
    "w.lookup(search_info = ['symbol', 'name', 'ipoyear', 'marketcap'], name = 'Mgmt')[:4]"
   ]
  },
  {
   "cell_type": "code",
   "execution_count": 24,
   "metadata": {
    "collapsed": false
   },
   "outputs": [
    {
     "data": {
      "text/plain": [
       "[('AMKR', 'Amkor Technology, Inc.', 'nasdaq'),\n",
       " ('AXTI', 'AXT Inc', 'nasdaq'),\n",
       " ('BEBE', 'bebe stores, inc.', 'nasdaq'),\n",
       " ('CFNL', 'Cardinal Financial Corporation', 'nasdaq')]"
      ]
     },
     "execution_count": 24,
     "metadata": {},
     "output_type": "execute_result"
    }
   ],
   "source": [
    "w.lookup(ipoyear = list(range(1998,2000)), se = 'amex')[:4]"
   ]
  },
  {
   "cell_type": "code",
   "execution_count": null,
   "metadata": {
    "collapsed": true
   },
   "outputs": [],
   "source": []
  }
 ],
 "metadata": {
  "anaconda-cloud": {},
  "kernelspec": {
   "display_name": "Python [conda root]",
   "language": "python",
   "name": "conda-root-py"
  },
  "language_info": {
   "codemirror_mode": {
    "name": "ipython",
    "version": 3
   },
   "file_extension": ".py",
   "mimetype": "text/x-python",
   "name": "python",
   "nbconvert_exporter": "python",
   "pygments_lexer": "ipython3",
   "version": "3.5.2"
  }
 },
 "nbformat": 4,
 "nbformat_minor": 1
}
