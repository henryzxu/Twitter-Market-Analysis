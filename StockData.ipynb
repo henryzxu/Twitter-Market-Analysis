{
 "cells": [
  {
   "cell_type": "code",
   "execution_count": 3,
   "metadata": {
    "collapsed": false
   },
   "outputs": [],
   "source": [
    "import stockutils\n",
    "import pandas_datareader.data as web, re, sqlite3, datetime"
   ]
  },
  {
   "cell_type": "code",
   "execution_count": 50,
   "metadata": {
    "collapsed": false
   },
   "outputs": [],
   "source": [
    "class StockData:\n",
    "    def __init__(self, se, update = False):\n",
    "        self.company_table = stockutils.company_table(se = se, update = update)\n",
    "        self.se = se\n",
    "   \n",
    "    def lookup_ticker(self, company_name, sql = True):\n",
    "        \"\"\"Converts company_name to ticker symbol. Returns a tuple of (symbol, company name) \n",
    "        or returns an empty table if company or ticker is not found.\"\"\"\n",
    "        if isinstance(company_name,str):\n",
    "            company_name = [company_name]\n",
    "        result_table = [] \n",
    "        if not sql:\n",
    "            for name in company_name:\n",
    "                name = r'.*\\s*'+name.lower()+r'.*'\n",
    "                for row in self.company_table:\n",
    "                    match = re.search(name,row[1].lower()) \n",
    "                    if match:\n",
    "                        result_table.append((row[0],row[1]))\n",
    "        else:\n",
    "            conn = sqlite3.connect('data/companysql' + self.se + '.sql')\n",
    "            c = conn.cursor()\n",
    "            for name in company_name:\n",
    "                query = ('%'+name+'%',)\n",
    "                for row in c.execute('SELECT symbol,name FROM companytable WHERE lower(name) LIKE ?', query):\n",
    "                    result_table.append(row)\n",
    "            conn.close()\n",
    "            if not result_table:\n",
    "                print('Switching to table.')\n",
    "                return self.lookup_ticker(company_name, sql = False)\n",
    "        return result_table.pop() if len(result_table) == 1 else result_table\n",
    "    \n",
    "#    def stock_price(self, ticker, date):\n",
    "        \n",
    "        "
   ]
  },
  {
   "cell_type": "code",
   "execution_count": 32,
   "metadata": {
    "collapsed": false
   },
   "outputs": [],
   "source": [
    "x = StockData('nasdaq')"
   ]
  },
  {
   "cell_type": "code",
   "execution_count": 51,
   "metadata": {
    "collapsed": true
   },
   "outputs": [],
   "source": [
    "y = StockData('amex')"
   ]
  },
  {
   "cell_type": "code",
   "execution_count": 52,
   "metadata": {
    "collapsed": false
   },
   "outputs": [],
   "source": [
    "z = StockData('nyse')"
   ]
  },
  {
   "cell_type": "code",
   "execution_count": 46,
   "metadata": {
    "collapsed": false
   },
   "outputs": [
    {
     "data": {
      "text/plain": [
       "('NVDA', 'NVIDIA Corporation')"
      ]
     },
     "execution_count": 46,
     "metadata": {},
     "output_type": "execute_result"
    }
   ],
   "source": [
    "x.lookup_ticker('Nvidia')"
   ]
  },
  {
   "cell_type": "code",
   "execution_count": 47,
   "metadata": {
    "collapsed": false
   },
   "outputs": [
    {
     "data": {
      "text/plain": [
       "[('INTC', 'Intel Corporation'),\n",
       " ('NVDA', 'NVIDIA Corporation'),\n",
       " ('AAPL', 'Apple Inc.'),\n",
       " ('MSFT', 'Microsoft Corporation')]"
      ]
     },
     "execution_count": 47,
     "metadata": {},
     "output_type": "execute_result"
    }
   ],
   "source": [
    "x.lookup_ticker(['Intel Corporation', 'Nvidia', 'Apple', 'Microsoft', 'Becton Dickinson'])"
   ]
  },
  {
   "cell_type": "code",
   "execution_count": 53,
   "metadata": {
    "collapsed": false
   },
   "outputs": [
    {
     "data": {
      "text/plain": [
       "('DKS', 'Dick&#39;s Sporting Goods Inc')"
      ]
     },
     "execution_count": 53,
     "metadata": {},
     "output_type": "execute_result"
    }
   ],
   "source": [
    "z.lookup_ticker(\"Sporting\")"
   ]
  },
  {
   "cell_type": "code",
   "execution_count": 54,
   "metadata": {
    "collapsed": false
   },
   "outputs": [
    {
     "data": {
      "text/plain": [
       "('BDX', 'Becton, Dickinson and Company')"
      ]
     },
     "execution_count": 54,
     "metadata": {},
     "output_type": "execute_result"
    }
   ],
   "source": [
    "z.lookup_ticker('Becton')"
   ]
  },
  {
   "cell_type": "code",
   "execution_count": null,
   "metadata": {
    "collapsed": true
   },
   "outputs": [],
   "source": []
  }
 ],
 "metadata": {
  "anaconda-cloud": {},
  "kernelspec": {
   "display_name": "Python [conda root]",
   "language": "python",
   "name": "conda-root-py"
  },
  "language_info": {
   "codemirror_mode": {
    "name": "ipython",
    "version": 3
   },
   "file_extension": ".py",
   "mimetype": "text/x-python",
   "name": "python",
   "nbconvert_exporter": "python",
   "pygments_lexer": "ipython3",
   "version": "3.5.2"
  }
 },
 "nbformat": 4,
 "nbformat_minor": 1
}
